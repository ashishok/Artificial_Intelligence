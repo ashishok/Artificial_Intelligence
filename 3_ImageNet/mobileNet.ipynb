{
 "cells": [
  {
   "cell_type": "markdown",
   "metadata": {},
   "source": [
    "### ImageNet\n",
    "1) Imagenet is an image database that organizes a competition for image classfication. <br>\n",
    "2) Imagenet provides the CNN model weight and based on those weights custom pretrained models are developed<br>\n",
    "3) Using custom pre-trained models in CNN is referred to as using Transfer Learning Techniques<br>\n",
    "4) VGG16, VGG19, ResNet,ResNet50, MobileNet, Inception etc. are exmaples of Transfer learning Techniques\n",
    "These are custom CNN architectures used to implement image clasification"
   ]
  },
  {
   "cell_type": "markdown",
   "metadata": {},
   "source": [
    "### VGG16\n",
    "1) It uses Convolution with (3,3) filters with a stride of 1 and uses the 'same' padding with \n",
    "maxpool layer throughout the architecture<br>\n",
    "2) In the end it has three fully connected layers followed by a softmax activation for output<br>\n",
    "\n",
    "#### VGG16 Architecture\n",
    "![](vgg16_arch.jpeg)\n",
    "<!-- <img src=\"E:\\Projects\\AI_Smartknower\\ImageNet\\vgg16_arch.jpeg\"> -->"
   ]
  },
  {
   "cell_type": "markdown",
   "metadata": {},
   "source": [
    "#### Dataset -> https://www.kaggle.com/datasets/puneet6060/intel-image-classification"
   ]
  },
  {
   "cell_type": "markdown",
   "metadata": {},
   "source": [
    "#### Data Augmentation Visualization\n",
    "\n",
    "https://machinelearningmastery.com/how-to-configure-image-data-augmentation-when-training-deep-learning-neural-networks/"
   ]
  },
  {
   "cell_type": "markdown",
   "metadata": {},
   "source": [
    "<br><br>"
   ]
  },
  {
   "cell_type": "markdown",
   "metadata": {},
   "source": [
    "### Fruit Image Classification using VGG16 and Data Augmentation"
   ]
  },
  {
   "cell_type": "code",
   "execution_count": 162,
   "metadata": {},
   "outputs": [],
   "source": [
    "import numpy as np\n",
    "import pandas as pd\n",
    "import matplotlib.pyplot as plt\n",
    "# import random"
   ]
  },
  {
   "cell_type": "code",
   "execution_count": 163,
   "metadata": {},
   "outputs": [],
   "source": [
    "from tensorflow.keras.preprocessing import image\n",
    "from tensorflow.keras.preprocessing.image import ImageDataGenerator\n",
    "from tensorflow.keras.applications.vgg16 import preprocess_input\n",
    "# from tensorflow.keras.applications.mobilenet import preprocess_input"
   ]
  },
  {
   "cell_type": "code",
   "execution_count": 164,
   "metadata": {},
   "outputs": [],
   "source": [
    "img_shape = (300,300)\n",
    "BATCH_SIZE = 16"
   ]
  },
  {
   "cell_type": "code",
   "execution_count": 165,
   "metadata": {},
   "outputs": [],
   "source": [
    "# E:\\Img_datasets\\Intel_Image\\seg_train\n",
    "# train_dir = \"E:\\\\Img_datasets\\\\Intel_Image\\\\seg_train\"\n",
    "# test_dir = \"E:\\\\Img_datasets\\\\Intel_Image\\\\seg_test\"\n",
    "train_dir = \"E:\\Projects\\AI_Smartknower\\ImageNet\\Dataset\\seg_train\"\n",
    "test_dir = \"E:\\Projects\\AI_Smartknower\\ImageNet\\Dataset\\seg_test\""
   ]
  },
  {
   "cell_type": "markdown",
   "metadata": {},
   "source": [
    "### Data Augmentation"
   ]
  },
  {
   "cell_type": "code",
   "execution_count": 166,
   "metadata": {},
   "outputs": [
    {
     "name": "stdout",
     "output_type": "stream",
     "text": [
      "14034\n",
      "140.34\n"
     ]
    }
   ],
   "source": [
    "total = 2191 + 2271 + 2404 + 2512 + 2274 + 2382\n",
    "print(total)\n",
    "print(total*0.01)"
   ]
  },
  {
   "cell_type": "code",
   "execution_count": 167,
   "metadata": {},
   "outputs": [
    {
     "name": "stdout",
     "output_type": "stream",
     "text": [
      "Found 284 images belonging to 6 classes.\n"
     ]
    }
   ],
   "source": [
    "train_gen = ImageDataGenerator(\n",
    "            rotation_range=20,horizontal_flip=True,vertical_flip=True,\n",
    "            width_shift_range=0.2,height_shift_range=0.2,\n",
    "            preprocessing_function=preprocess_input,\n",
    "            zoom_range=0.2,shear_range=0.3,validation_split=0.98)\n",
    "\n",
    "\n",
    "train = train_gen.flow_from_directory(train_dir,target_size=img_shape,shuffle=True,\n",
    "        class_mode='categorical',batch_size=BATCH_SIZE,subset='training')"
   ]
  },
  {
   "cell_type": "code",
   "execution_count": 168,
   "metadata": {},
   "outputs": [
    {
     "name": "stdout",
     "output_type": "stream",
     "text": [
      "3000\n"
     ]
    }
   ],
   "source": [
    "total_test = 437 + 474 + 553 + 525 + 510 + 501\n",
    "print(total_test)"
   ]
  },
  {
   "cell_type": "code",
   "execution_count": 169,
   "metadata": {},
   "outputs": [
    {
     "name": "stdout",
     "output_type": "stream",
     "text": [
      "Found 58 images belonging to 6 classes.\n"
     ]
    }
   ],
   "source": [
    "test_gen = ImageDataGenerator(preprocessing_function=preprocess_input,validation_split=0.02)\n",
    "\n",
    "test = test_gen.flow_from_directory(test_dir,target_size=img_shape,shuffle=False,\n",
    "        class_mode='categorical',batch_size=BATCH_SIZE,subset='validation')"
   ]
  },
  {
   "cell_type": "code",
   "execution_count": 170,
   "metadata": {},
   "outputs": [
    {
     "name": "stdout",
     "output_type": "stream",
     "text": [
      "284\n",
      "58\n"
     ]
    }
   ],
   "source": [
    "train_samples = train.samples\n",
    "test_samples = test.samples\n",
    "print(train_samples)\n",
    "print(test_samples)"
   ]
  },
  {
   "cell_type": "code",
   "execution_count": 171,
   "metadata": {},
   "outputs": [
    {
     "name": "stdout",
     "output_type": "stream",
     "text": [
      "{'buildings': 0, 'forest': 1, 'glacier': 2, 'mountain': 3, 'sea': 4, 'street': 5}\n",
      "Classes ['buildings', 'forest', 'glacier', 'mountain', 'sea', 'street']\n",
      "6\n"
     ]
    }
   ],
   "source": [
    "classes = list(train.class_indices.keys())\n",
    "print(train.class_indices)  # dict\n",
    "print('Classes',classes)\n",
    "num_classes = len(classes)\n",
    "print(num_classes)"
   ]
  },
  {
   "cell_type": "code",
   "execution_count": 172,
   "metadata": {},
   "outputs": [
    {
     "name": "stdout",
     "output_type": "stream",
     "text": [
      "dict_values([0, 1, 2, 3, 4, 5])\n"
     ]
    }
   ],
   "source": [
    "print(train.class_indices.values())"
   ]
  },
  {
   "cell_type": "code",
   "execution_count": 173,
   "metadata": {},
   "outputs": [
    {
     "name": "stdout",
     "output_type": "stream",
     "text": [
      "[0 0 0 0 0 0 0 0 0 0 0 0 0 0 0 0 0 0 0 0 0 0 0 0 0 0 0 0 0 0 0 0 0 0 0 0 0\n",
      " 0 0 0 0 0 0 0 1 1 1 1 1 1 1 1 1 1 1 1 1 1 1 1 1 1 1 1 1 1 1 1 1 1 1 1 1 1\n",
      " 1 1 1 1 1 1 1 1 1 1 1 1 1 1 1 1 2 2 2 2 2 2 2 2 2 2 2 2 2 2 2 2 2 2 2 2 2\n",
      " 2 2 2 2 2 2 2 2 2 2 2 2 2 2 2 2 2 2 2 2 2 2 2 2 2 2 2 2 3 3 3 3 3 3 3 3 3\n",
      " 3 3 3 3 3 3 3 3 3 3 3 3 3 3 3 3 3 3 3 3 3 3 3 3 3 3 3 3 3 3 3 3 3 3 3 3 3\n",
      " 3 3 3 3 3 4 4 4 4 4 4 4 4 4 4 4 4 4 4 4 4 4 4 4 4 4 4 4 4 4 4 4 4 4 4 4 4\n",
      " 4 4 4 4 4 4 4 4 4 4 4 4 4 4 5 5 5 5 5 5 5 5 5 5 5 5 5 5 5 5 5 5 5 5 5 5 5\n",
      " 5 5 5 5 5 5 5 5 5 5 5 5 5 5 5 5 5 5 5 5 5 5 5 5 5]\n",
      "284\n"
     ]
    }
   ],
   "source": [
    "print(train.labels)\n",
    "print(len(train.labels))"
   ]
  },
  {
   "cell_type": "code",
   "execution_count": 174,
   "metadata": {},
   "outputs": [
    {
     "name": "stdout",
     "output_type": "stream",
     "text": [
      "[0 0 0 0 0 0 0 0 1 1 1 1 1 1 1 1 1 2 2 2 2 2 2 2 2 2 2 2 3 3 3 3 3 3 3 3 3\n",
      " 3 4 4 4 4 4 4 4 4 4 4 5 5 5 5 5 5 5 5 5 5]\n",
      "58\n"
     ]
    }
   ],
   "source": [
    "print(test.labels)\n",
    "print(len(test.labels))"
   ]
  },
  {
   "cell_type": "markdown",
   "metadata": {},
   "source": [
    "#### Displaying augmented images"
   ]
  },
  {
   "cell_type": "code",
   "execution_count": 175,
   "metadata": {},
   "outputs": [],
   "source": [
    "# it = datagen.flow_from_directory(samples, batch_size=1)\n",
    "# for i in range(9):\n",
    "#     plt.subplot(330 + 1 + i)\n",
    "#     batch = train.next()\n",
    "#     image = batch[0].astype('uint8')\n",
    "#     plt.imshow(image)\n",
    "# plt.show()"
   ]
  },
  {
   "cell_type": "markdown",
   "metadata": {},
   "source": [
    "### Build The VGG16 Model"
   ]
  },
  {
   "cell_type": "code",
   "execution_count": 176,
   "metadata": {},
   "outputs": [],
   "source": [
    "from tensorflow.keras.applications import VGG16\n",
    "from tensorflow.keras.models import Sequential\n",
    "from tensorflow.keras.layers import Dense, Conv2D, MaxPooling2D, AveragePooling2D, Flatten\n",
    "from tensorflow.keras.layers import BatchNormalization, GlobalAveragePooling2D, Dropout\n",
    "from tensorflow.keras.optimizers import Adam, RMSprop"
   ]
  },
  {
   "cell_type": "markdown",
   "metadata": {},
   "source": [
    "#### Import Saved weights from Imagenet for VGG16 model"
   ]
  },
  {
   "cell_type": "code",
   "execution_count": 177,
   "metadata": {},
   "outputs": [
    {
     "name": "stdout",
     "output_type": "stream",
     "text": [
      "Model: \"vgg16\"\n",
      "_________________________________________________________________\n",
      " Layer (type)                Output Shape              Param #   \n",
      "=================================================================\n",
      " input_5 (InputLayer)        [(None, 300, 300, 3)]     0         \n",
      "                                                                 \n",
      " block1_conv1 (Conv2D)       (None, 300, 300, 64)      1792      \n",
      "                                                                 \n",
      " block1_conv2 (Conv2D)       (None, 300, 300, 64)      36928     \n",
      "                                                                 \n",
      " block1_pool (MaxPooling2D)  (None, 150, 150, 64)      0         \n",
      "                                                                 \n",
      " block2_conv1 (Conv2D)       (None, 150, 150, 128)     73856     \n",
      "                                                                 \n",
      " block2_conv2 (Conv2D)       (None, 150, 150, 128)     147584    \n",
      "                                                                 \n",
      " block2_pool (MaxPooling2D)  (None, 75, 75, 128)       0         \n",
      "                                                                 \n",
      " block3_conv1 (Conv2D)       (None, 75, 75, 256)       295168    \n",
      "                                                                 \n",
      " block3_conv2 (Conv2D)       (None, 75, 75, 256)       590080    \n",
      "                                                                 \n",
      " block3_conv3 (Conv2D)       (None, 75, 75, 256)       590080    \n",
      "                                                                 \n",
      " block3_pool (MaxPooling2D)  (None, 37, 37, 256)       0         \n",
      "                                                                 \n",
      " block4_conv1 (Conv2D)       (None, 37, 37, 512)       1180160   \n",
      "                                                                 \n",
      " block4_conv2 (Conv2D)       (None, 37, 37, 512)       2359808   \n",
      "                                                                 \n",
      " block4_conv3 (Conv2D)       (None, 37, 37, 512)       2359808   \n",
      "                                                                 \n",
      " block4_pool (MaxPooling2D)  (None, 18, 18, 512)       0         \n",
      "                                                                 \n",
      " block5_conv1 (Conv2D)       (None, 18, 18, 512)       2359808   \n",
      "                                                                 \n",
      " block5_conv2 (Conv2D)       (None, 18, 18, 512)       2359808   \n",
      "                                                                 \n",
      " block5_conv3 (Conv2D)       (None, 18, 18, 512)       2359808   \n",
      "                                                                 \n",
      " block5_pool (MaxPooling2D)  (None, 9, 9, 512)         0         \n",
      "                                                                 \n",
      "=================================================================\n",
      "Total params: 14,714,688\n",
      "Trainable params: 14,714,688\n",
      "Non-trainable params: 0\n",
      "_________________________________________________________________\n"
     ]
    }
   ],
   "source": [
    "vgg16m = VGG16(weights='imagenet',include_top=False,input_shape=(300,300,3)) # inclue_top is false dont want to include top 3 layer given above figure (dense layer)\n",
    "vgg16m.summary()"
   ]
  },
  {
   "cell_type": "code",
   "execution_count": 178,
   "metadata": {},
   "outputs": [],
   "source": [
    "m1 = Sequential()\n",
    "vgg16m.trainable = False\n",
    "m1.add(vgg16m)\n",
    "m1.add(GlobalAveragePooling2D())\n",
    "\n",
    "m1.add(Dense(128,activation='relu'))\n",
    "m1.add(BatchNormalization())  # prevention of overfitting\n",
    "m1.add(Dropout(0.2))\n",
    "m1.add(Dense(6,activation='softmax'))   # output layer\n",
    "\n",
    "m1.compile(optimizer=Adam(beta_1=0.9),loss='categorical_crossentropy',metrics=['accuracy'])"
   ]
  },
  {
   "cell_type": "code",
   "execution_count": 179,
   "metadata": {},
   "outputs": [
    {
     "name": "stdout",
     "output_type": "stream",
     "text": [
      "Epoch 1/20\n",
      "18/18 [==============================] - 180s 10s/step - loss: 1.8157 - accuracy: 0.3592 - val_loss: 1.6471 - val_accuracy: 0.5172\n",
      "Epoch 2/20\n",
      "18/18 [==============================] - 180s 10s/step - loss: 0.7912 - accuracy: 0.6866 - val_loss: 0.8264 - val_accuracy: 0.7241\n",
      "Epoch 3/20\n",
      "18/18 [==============================] - 177s 10s/step - loss: 0.5806 - accuracy: 0.7711 - val_loss: 0.7046 - val_accuracy: 0.7931\n",
      "Epoch 4/20\n",
      "18/18 [==============================] - 178s 10s/step - loss: 0.4308 - accuracy: 0.8310 - val_loss: 0.6425 - val_accuracy: 0.7759\n",
      "Epoch 5/20\n",
      "18/18 [==============================] - 177s 10s/step - loss: 0.4723 - accuracy: 0.8345 - val_loss: 0.6309 - val_accuracy: 0.8276\n",
      "Epoch 6/20\n",
      "18/18 [==============================] - 176s 10s/step - loss: 0.4157 - accuracy: 0.8627 - val_loss: 0.6637 - val_accuracy: 0.8103\n",
      "Epoch 7/20\n",
      "18/18 [==============================] - 175s 10s/step - loss: 0.3791 - accuracy: 0.8521 - val_loss: 0.5166 - val_accuracy: 0.8621\n",
      "Epoch 8/20\n",
      "18/18 [==============================] - 170s 10s/step - loss: 0.4092 - accuracy: 0.8768 - val_loss: 0.5710 - val_accuracy: 0.8448\n",
      "Epoch 9/20\n",
      "18/18 [==============================] - 176s 10s/step - loss: 0.3362 - accuracy: 0.8803 - val_loss: 0.5160 - val_accuracy: 0.8276\n",
      "Epoch 10/20\n",
      "18/18 [==============================] - 177s 10s/step - loss: 0.3351 - accuracy: 0.8803 - val_loss: 0.5962 - val_accuracy: 0.8276\n",
      "Epoch 11/20\n",
      "18/18 [==============================] - 178s 10s/step - loss: 0.3437 - accuracy: 0.8838 - val_loss: 0.7089 - val_accuracy: 0.8103\n",
      "Epoch 12/20\n",
      "18/18 [==============================] - 178s 10s/step - loss: 0.3020 - accuracy: 0.8873 - val_loss: 0.6149 - val_accuracy: 0.8276\n",
      "Epoch 13/20\n",
      "18/18 [==============================] - 176s 10s/step - loss: 0.2802 - accuracy: 0.8768 - val_loss: 0.6045 - val_accuracy: 0.8276\n",
      "Epoch 14/20\n",
      "18/18 [==============================] - 176s 10s/step - loss: 0.2935 - accuracy: 0.8908 - val_loss: 0.5557 - val_accuracy: 0.7759\n",
      "Epoch 15/20\n",
      "18/18 [==============================] - 179s 10s/step - loss: 0.2593 - accuracy: 0.9155 - val_loss: 0.5013 - val_accuracy: 0.7931\n",
      "Epoch 16/20\n",
      "18/18 [==============================] - 175s 10s/step - loss: 0.2533 - accuracy: 0.9155 - val_loss: 0.4611 - val_accuracy: 0.8621\n",
      "Epoch 17/20\n",
      "18/18 [==============================] - 168s 9s/step - loss: 0.2531 - accuracy: 0.9190 - val_loss: 0.5534 - val_accuracy: 0.8276\n",
      "Epoch 18/20\n",
      "18/18 [==============================] - 171s 10s/step - loss: 0.2090 - accuracy: 0.9190 - val_loss: 0.6507 - val_accuracy: 0.8103\n",
      "Epoch 19/20\n",
      "18/18 [==============================] - 170s 10s/step - loss: 0.1756 - accuracy: 0.9331 - val_loss: 0.7408 - val_accuracy: 0.8276\n",
      "Epoch 20/20\n",
      "18/18 [==============================] - 171s 10s/step - loss: 0.2027 - accuracy: 0.9225 - val_loss: 0.6881 - val_accuracy: 0.8103\n"
     ]
    }
   ],
   "source": [
    "# Train = 246, Test = 58\n",
    "h1 = m1.fit(train,validation_data=test,epochs=20 )\n",
    "# epochs = no of iterations"
   ]
  },
  {
   "cell_type": "code",
   "execution_count": 180,
   "metadata": {},
   "outputs": [
    {
     "data": {
      "text/html": [
       "<div>\n",
       "<style scoped>\n",
       "    .dataframe tbody tr th:only-of-type {\n",
       "        vertical-align: middle;\n",
       "    }\n",
       "\n",
       "    .dataframe tbody tr th {\n",
       "        vertical-align: top;\n",
       "    }\n",
       "\n",
       "    .dataframe thead th {\n",
       "        text-align: right;\n",
       "    }\n",
       "</style>\n",
       "<table border=\"1\" class=\"dataframe\">\n",
       "  <thead>\n",
       "    <tr style=\"text-align: right;\">\n",
       "      <th></th>\n",
       "      <th>loss</th>\n",
       "      <th>accuracy</th>\n",
       "      <th>val_loss</th>\n",
       "      <th>val_accuracy</th>\n",
       "      <th>Epcohs</th>\n",
       "    </tr>\n",
       "  </thead>\n",
       "  <tbody>\n",
       "    <tr>\n",
       "      <th>15</th>\n",
       "      <td>0.253346</td>\n",
       "      <td>0.915493</td>\n",
       "      <td>0.461132</td>\n",
       "      <td>0.862069</td>\n",
       "      <td>15</td>\n",
       "    </tr>\n",
       "    <tr>\n",
       "      <th>16</th>\n",
       "      <td>0.253092</td>\n",
       "      <td>0.919014</td>\n",
       "      <td>0.553448</td>\n",
       "      <td>0.827586</td>\n",
       "      <td>16</td>\n",
       "    </tr>\n",
       "    <tr>\n",
       "      <th>17</th>\n",
       "      <td>0.209043</td>\n",
       "      <td>0.919014</td>\n",
       "      <td>0.650702</td>\n",
       "      <td>0.810345</td>\n",
       "      <td>17</td>\n",
       "    </tr>\n",
       "    <tr>\n",
       "      <th>18</th>\n",
       "      <td>0.175619</td>\n",
       "      <td>0.933099</td>\n",
       "      <td>0.740766</td>\n",
       "      <td>0.827586</td>\n",
       "      <td>18</td>\n",
       "    </tr>\n",
       "    <tr>\n",
       "      <th>19</th>\n",
       "      <td>0.202708</td>\n",
       "      <td>0.922535</td>\n",
       "      <td>0.688076</td>\n",
       "      <td>0.810345</td>\n",
       "      <td>19</td>\n",
       "    </tr>\n",
       "  </tbody>\n",
       "</table>\n",
       "</div>"
      ],
      "text/plain": [
       "        loss  accuracy  val_loss  val_accuracy  Epcohs\n",
       "15  0.253346  0.915493  0.461132      0.862069      15\n",
       "16  0.253092  0.919014  0.553448      0.827586      16\n",
       "17  0.209043  0.919014  0.650702      0.810345      17\n",
       "18  0.175619  0.933099  0.740766      0.827586      18\n",
       "19  0.202708  0.922535  0.688076      0.810345      19"
      ]
     },
     "execution_count": 180,
     "metadata": {},
     "output_type": "execute_result"
    }
   ],
   "source": [
    "r1 = pd.DataFrame(h1.history)\n",
    "r1['Epcohs'] = h1.epoch\n",
    "r1.tail()"
   ]
  },
  {
   "cell_type": "code",
   "execution_count": 181,
   "metadata": {},
   "outputs": [
    {
     "data": {
      "image/png": "[encoded data removed]",
      "text/plain": [
       "<Figure size 432x288 with 1 Axes>"
      ]
     },
     "metadata": {
      "needs_background": "light"
     },
     "output_type": "display_data"
    }
   ],
   "source": [
    "plt.plot(r1['Epcohs'],r1['loss'],label='Train_loss')\n",
    "plt.plot(r1['Epcohs'],r1['val_loss'],label='Test_loss')\n",
    "plt.xlabel('Epcohs')\n",
    "plt.ylabel('Loss')\n",
    "plt.legend()\n",
    "plt.show()"
   ]
  },
  {
   "cell_type": "code",
   "execution_count": 182,
   "metadata": {},
   "outputs": [
    {
     "data": {
      "image/png": "[encoded data removed]",
      "text/plain": [
       "<Figure size 432x288 with 1 Axes>"
      ]
     },
     "metadata": {
      "needs_background": "light"
     },
     "output_type": "display_data"
    }
   ],
   "source": [
    "plt.plot(r1['Epcohs'],r1['accuracy'],label='Train_accuracy')\n",
    "plt.plot(r1['Epcohs'],r1['val_accuracy'],label='Test_accuracy')\n",
    "plt.xlabel('Epcohs')\n",
    "plt.ylabel('accuracy')\n",
    "plt.legend()\n",
    "plt.show()"
   ]
  },
  {
   "cell_type": "code",
   "execution_count": 183,
   "metadata": {},
   "outputs": [
    {
     "name": "stdout",
     "output_type": "stream",
     "text": [
      "4/4 [==============================] - 28s 7s/step\n",
      "[[9.99785602e-01 1.33075901e-06 3.17122215e-07 6.28689975e-07\n",
      "  1.99373768e-04 1.27780577e-05]\n",
      " [8.21120441e-01 9.20655497e-04 1.30769558e-06 3.20276536e-06\n",
      "  1.06041398e-06 1.77953392e-01]\n",
      " [9.99989510e-01 1.80772543e-06 2.69851275e-09 1.38024518e-07\n",
      "  4.24552638e-07 8.18438457e-06]\n",
      " [9.98879015e-01 3.25363435e-05 4.27554482e-07 1.61469143e-06\n",
      "  2.89497257e-06 1.08337821e-03]\n",
      " [9.99998331e-01 1.69260055e-08 1.97575312e-09 4.98660713e-09\n",
      "  1.60337356e-06 1.89383744e-08]\n",
      " [7.17750117e-02 1.50646241e-02 1.01849847e-02 7.58389950e-01\n",
      "  1.42282352e-01 2.30305386e-03]\n",
      " [9.99806821e-01 3.89665911e-05 4.48426754e-08 7.37164783e-07\n",
      "  4.59922012e-06 1.48870487e-04]\n",
      " [9.59938765e-01 1.98929626e-02 2.34257037e-04 1.43916055e-03\n",
      "  1.00038640e-04 1.83948334e-02]\n",
      " [5.62048117e-05 9.97992992e-01 1.96530993e-04 1.06829277e-03\n",
      "  9.22383624e-05 5.93799981e-04]\n",
      " [2.60980846e-06 9.97679412e-01 1.74795699e-04 6.86100839e-06\n",
      "  1.23820573e-05 2.12389533e-03]\n",
      " [9.58463736e-03 9.81165051e-01 3.58066522e-04 5.53907710e-04\n",
      "  7.95022570e-05 8.25876370e-03]\n",
      " [7.47302664e-04 9.93482053e-01 3.64905893e-04 1.72621614e-04\n",
      "  1.56444803e-05 5.21744601e-03]\n",
      " [6.57907585e-05 9.95971262e-01 5.93503122e-04 5.01839910e-04\n",
      "  2.04343844e-04 2.66319746e-03]\n",
      " [3.64519015e-04 9.96328175e-01 1.01679063e-03 4.55104833e-04\n",
      "  1.50608295e-03 3.29331029e-04]\n",
      " [4.25505414e-06 9.99969482e-01 4.80905283e-06 8.59971294e-07\n",
      "  7.19810089e-07 1.99302540e-05]\n",
      " [7.11650282e-05 9.99322653e-01 6.15674799e-05 6.20818464e-05\n",
      "  4.31317812e-06 4.78303526e-04]\n",
      " [1.97010610e-04 9.96952176e-01 4.49404586e-04 8.81441869e-04\n",
      "  2.47518583e-05 1.49513804e-03]\n",
      " [1.59326184e-04 3.80954880e-04 8.08728218e-01 9.24457517e-03\n",
      "  1.81352571e-01 1.34310743e-04]\n",
      " [1.98391569e-03 1.36153726e-03 5.40902615e-01 4.46390897e-01\n",
      "  8.72390810e-03 6.37044897e-04]\n",
      " [9.41747658e-06 2.94322945e-05 9.94155109e-01 4.41494351e-03\n",
      "  1.31663017e-03 7.45781581e-05]\n",
      " [2.63819165e-05 6.61350932e-05 4.14689304e-03 9.95675504e-01\n",
      "  7.28539235e-05 1.22748279e-05]\n",
      " [1.19570377e-05 1.52216147e-04 1.72134563e-02 9.82446909e-01\n",
      "  1.71366439e-04 4.07201605e-06]\n",
      " [1.38001997e-04 1.25544204e-04 9.96889532e-01 1.38178014e-03\n",
      "  1.22283807e-03 2.42344991e-04]\n",
      " [6.17438709e-05 3.53705691e-04 7.06085324e-01 2.93058574e-01\n",
      "  3.31018062e-04 1.09543704e-04]\n",
      " [1.71031716e-04 9.22116451e-04 2.75917113e-01 7.22463846e-01\n",
      "  4.43924684e-04 8.19606284e-05]\n",
      " [2.38412917e-06 1.08424865e-06 9.94130790e-01 5.80344861e-03\n",
      "  3.44171485e-06 5.89040574e-05]\n",
      " [3.59294859e-07 8.37594562e-05 9.98363197e-01 8.09069898e-04\n",
      "  8.14200175e-05 6.62143051e-04]\n",
      " [2.58583857e-08 2.21616503e-07 9.99925375e-01 8.37400421e-06\n",
      "  2.03265154e-05 4.56553498e-05]\n",
      " [4.67364350e-03 8.04466603e-04 1.52431233e-02 9.77338970e-01\n",
      "  1.87445967e-03 6.52687959e-05]\n",
      " [5.61010675e-04 1.18698308e-03 5.47313713e-04 9.79988933e-01\n",
      "  1.76840816e-02 3.17569538e-05]\n",
      " [1.15084813e-05 7.16845680e-05 2.10487321e-02 9.78859305e-01\n",
      "  2.05248830e-06 6.69881956e-06]\n",
      " [5.68291307e-06 7.66893754e-06 4.88349542e-06 9.97357190e-01\n",
      "  2.62177479e-03 2.66719553e-06]\n",
      " [1.85826375e-05 6.67320819e-06 9.75133598e-01 2.47955751e-02\n",
      "  1.81498363e-05 2.74156537e-05]\n",
      " [4.44900797e-04 4.11374168e-03 6.13484792e-02 9.34010506e-01\n",
      "  3.28920796e-05 4.94515043e-05]\n",
      " [1.81663141e-03 6.57820128e-05 9.16188300e-01 8.01063478e-02\n",
      "  2.41122310e-04 1.58183835e-03]\n",
      " [2.17207562e-04 9.88725573e-04 1.48884475e-03 9.96890962e-01\n",
      "  2.32503808e-04 1.81818919e-04]\n",
      " [9.83418548e-04 1.82555791e-03 5.96610364e-03 9.90640759e-01\n",
      "  5.38180990e-04 4.59117873e-05]\n",
      " [3.00399750e-03 3.12101152e-02 2.36378372e-01 7.21316695e-01\n",
      "  4.15965030e-03 3.93120991e-03]\n",
      " [6.02106957e-05 1.70615678e-07 1.14702270e-05 6.94193659e-07\n",
      "  9.99918342e-01 9.09556275e-06]\n",
      " [1.03544164e-03 4.62175280e-01 1.76580083e-02 1.57436877e-02\n",
      "  2.97794402e-01 2.05593199e-01]\n",
      " [4.13453698e-01 5.83648907e-05 7.17695075e-05 5.41193658e-05\n",
      "  5.86274266e-01 8.77736384e-05]\n",
      " [2.26989083e-04 1.37098032e-04 1.35631883e-03 2.15461999e-02\n",
      "  9.76724267e-01 9.13616896e-06]\n",
      " [3.10354373e-08 3.61222052e-10 1.94173396e-07 4.87943396e-07\n",
      "  9.99999285e-01 1.29769237e-10]\n",
      " [4.20911796e-03 2.44932547e-02 2.53761709e-02 5.53620458e-02\n",
      "  8.89330864e-01 1.22855464e-03]\n",
      " [2.53929145e-04 2.13886338e-07 4.95528220e-05 1.42433541e-03\n",
      "  9.98271942e-01 2.70020646e-08]\n",
      " [2.62374269e-05 1.91089166e-05 1.43999147e-04 1.32251682e-03\n",
      "  9.98487592e-01 4.46926094e-07]\n",
      " [8.99665520e-06 5.26498161e-06 7.50775565e-04 5.35887782e-04\n",
      "  9.98697460e-01 1.64105529e-06]\n",
      " [1.08026648e-02 1.51794869e-03 1.05408337e-02 1.46348821e-02\n",
      "  9.61703598e-01 8.00146954e-04]\n",
      " [1.37440071e-01 1.52593600e-06 9.85462165e-08 2.66342141e-07\n",
      "  3.53802443e-06 8.62554550e-01]\n",
      " [9.99528766e-01 1.85256923e-07 7.15822912e-09 7.57592034e-07\n",
      "  2.57015813e-06 4.67785052e-04]\n",
      " [2.21453235e-01 1.28721280e-04 8.31795478e-06 1.36407016e-06\n",
      "  2.35398074e-05 7.78384805e-01]\n",
      " [1.64493844e-01 1.23266524e-04 2.00405202e-06 9.56589020e-07\n",
      "  7.33856132e-06 8.35372627e-01]\n",
      " [6.28999260e-04 1.76855519e-05 6.03539888e-07 1.88908289e-05\n",
      "  1.47162398e-04 9.99186695e-01]\n",
      " [6.17564738e-01 3.00064031e-03 6.47410852e-05 1.03344137e-04\n",
      "  1.74957211e-04 3.79091561e-01]\n",
      " [9.95321095e-01 6.77648495e-05 1.54741923e-04 1.10254978e-05\n",
      "  4.09499859e-04 4.03594505e-03]\n",
      " [1.01186149e-01 1.06173109e-04 7.41324720e-06 3.68402493e-06\n",
      "  3.88132721e-05 8.98657739e-01]\n",
      " [1.37582392e-04 3.46962595e-03 8.93826018e-06 1.35116636e-06\n",
      "  1.73575303e-04 9.96208906e-01]\n",
      " [7.73280621e-01 3.53909098e-03 6.91107416e-05 2.21138216e-05\n",
      "  2.14018233e-04 2.22874999e-01]]\n"
     ]
    }
   ],
   "source": [
    "ypred = m1.predict(test)\n",
    "print(ypred)"
   ]
  },
  {
   "cell_type": "code",
   "execution_count": 184,
   "metadata": {},
   "outputs": [
    {
     "name": "stdout",
     "output_type": "stream",
     "text": [
      "[0, 0, 0, 0, 0, 3, 0, 0, 1, 1, 1, 1, 1, 1, 1, 1, 1, 2, 2, 2, 3, 3, 2, 2, 3, 2, 2, 2, 3, 3, 3, 3, 2, 3, 2, 3, 3, 3, 4, 1, 4, 4, 4, 4, 4, 4, 4, 4, 5, 0, 5, 5, 5, 0, 0, 5, 5, 0]\n"
     ]
    }
   ],
   "source": [
    "ypred = [np.argmax(i) for i in ypred]\n",
    "print(ypred)"
   ]
  },
  {
   "cell_type": "code",
   "execution_count": 185,
   "metadata": {},
   "outputs": [
    {
     "data": {
      "text/plain": [
       "<bound method NDFrame.tail of     y_test  y_pred\n",
       "0        0       0\n",
       "1        0       0\n",
       "2        0       0\n",
       "3        0       0\n",
       "4        0       0\n",
       "5        0       3\n",
       "6        0       0\n",
       "7        0       0\n",
       "8        1       1\n",
       "9        1       1\n",
       "10       1       1\n",
       "11       1       1\n",
       "12       1       1\n",
       "13       1       1\n",
       "14       1       1\n",
       "15       1       1\n",
       "16       1       1\n",
       "17       2       2\n",
       "18       2       2\n",
       "19       2       2\n",
       "20       2       3\n",
       "21       2       3\n",
       "22       2       2\n",
       "23       2       2\n",
       "24       2       3\n",
       "25       2       2\n",
       "26       2       2\n",
       "27       2       2\n",
       "28       3       3\n",
       "29       3       3\n",
       "30       3       3\n",
       "31       3       3\n",
       "32       3       2\n",
       "33       3       3\n",
       "34       3       2\n",
       "35       3       3\n",
       "36       3       3\n",
       "37       3       3\n",
       "38       4       4\n",
       "39       4       1\n",
       "40       4       4\n",
       "41       4       4\n",
       "42       4       4\n",
       "43       4       4\n",
       "44       4       4\n",
       "45       4       4\n",
       "46       4       4\n",
       "47       4       4\n",
       "48       5       5\n",
       "49       5       0\n",
       "50       5       5\n",
       "51       5       5\n",
       "52       5       5\n",
       "53       5       0\n",
       "54       5       0\n",
       "55       5       5\n",
       "56       5       5\n",
       "57       5       0>"
      ]
     },
     "execution_count": 185,
     "metadata": {},
     "output_type": "execute_result"
    }
   ],
   "source": [
    "from io import StringIO, BytesIO\n",
    "from Bio import SeqIO\n",
    "from tokenize import String\n",
    "from tabulate import tabulate\n",
    "\n",
    "res1 = pd.DataFrame({'y_test':test.labels,'y_pred':[*ypred]})\n",
    "# for i in res1:\n",
    "    # print(list(res1[i]))\n",
    "    # print((res1[i]))\n",
    "res1.tail\n",
    "# res1.tail()"
   ]
  },
  {
   "cell_type": "code",
   "execution_count": 186,
   "metadata": {},
   "outputs": [],
   "source": [
    "from sklearn.metrics import confusion_matrix,classification_report"
   ]
  },
  {
   "cell_type": "code",
   "execution_count": 187,
   "metadata": {},
   "outputs": [
    {
     "name": "stdout",
     "output_type": "stream",
     "text": [
      "[[7 0 0 1 0 0]\n",
      " [0 9 0 0 0 0]\n",
      " [0 0 8 3 0 0]\n",
      " [0 0 2 8 0 0]\n",
      " [0 1 0 0 9 0]\n",
      " [4 0 0 0 0 6]]\n",
      "              precision    recall  f1-score   support\n",
      "\n",
      "           0       0.64      0.88      0.74         8\n",
      "           1       0.90      1.00      0.95         9\n",
      "           2       0.80      0.73      0.76        11\n",
      "           3       0.67      0.80      0.73        10\n",
      "           4       1.00      0.90      0.95        10\n",
      "           5       1.00      0.60      0.75        10\n",
      "\n",
      "    accuracy                           0.81        58\n",
      "   macro avg       0.83      0.82      0.81        58\n",
      "weighted avg       0.84      0.81      0.81        58\n",
      "\n"
     ]
    }
   ],
   "source": [
    "cm = confusion_matrix(test.labels,ypred)\n",
    "print(cm)\n",
    "print(classification_report(test.labels,ypred))"
   ]
  },
  {
   "cell_type": "markdown",
   "metadata": {},
   "source": [
    "### MobileNet\n",
    "\n",
    "<img src=\"mobilenet_arch.png\">"
   ]
  },
  {
   "cell_type": "markdown",
   "metadata": {},
   "source": [
    "### Major Project\n",
    "Implement the Intel Image project using MobileNet Transfer learning technique\n",
    "\n",
    "Link Used -> https://www.tensorflow.org/api_docs/python/tf/keras/applications/\n",
    "\n",
    "Dataset -> https://www.kaggle.com/datasets/puneet6060/intel-image-classification"
   ]
  },
  {
   "cell_type": "code",
   "execution_count": 188,
   "metadata": {},
   "outputs": [],
   "source": [
    "from tensorflow.keras.applications import MobileNet\n",
    "from tensorflow.keras.applications.mobilenet import preprocess_input"
   ]
  },
  {
   "cell_type": "markdown",
   "metadata": {},
   "source": [
    "### Mount Drive on Colab"
   ]
  },
  {
   "cell_type": "code",
   "execution_count": 189,
   "metadata": {},
   "outputs": [],
   "source": [
    "# from google.colab import drive\n",
    "# drive.mount('/content/drive')\n",
    "\n",
    "# df  = pd.read_csv('/content/drive/My Drive/Colab_files/house_price2.csv')\n",
    "# df.head()"
   ]
  }
 ],
 "metadata": {
  "kernelspec": {
   "display_name": "Python 3.10.2 64-bit",
   "language": "python",
   "name": "python3"
  },
  "language_info": {
   "codemirror_mode": {
    "name": "ipython",
    "version": 3
   },
   "file_extension": ".py",
   "mimetype": "text/x-python",
   "name": "python",
   "nbconvert_exporter": "python",
   "pygments_lexer": "ipython3",
   "version": "3.10.2"
  },
  "orig_nbformat": 4,
  "vscode": {
   "interpreter": {
    "hash": "26de051ba29f2982a8de78e945f0abaf191376122a1563185a90213a26c5da77"
   }
  }
 },
 "nbformat": 4,
 "nbformat_minor": 2
}
