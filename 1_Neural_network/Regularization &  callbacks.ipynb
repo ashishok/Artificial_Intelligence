{
 "cells": [
  {
   "cell_type": "code",
   "execution_count": 2,
   "metadata": {},
   "outputs": [],
   "source": [
    "import pandas as pd\n",
    "import numpy as np\n",
    "import matplotlib.pyplot as plt"
   ]
  },
  {
   "cell_type": "code",
   "execution_count": 3,
   "metadata": {},
   "outputs": [],
   "source": [
    "from sklearn.model_selection import train_test_split\n",
    "from sklearn.metrics import confusion_matrix,classification_report"
   ]
  },
  {
   "cell_type": "code",
   "execution_count": 4,
   "metadata": {},
   "outputs": [],
   "source": [
    "from tensorflow.keras.models import Sequential\n",
    "from tensorflow.keras.layers import Dense,Dropout"
   ]
  },
  {
   "cell_type": "code",
   "execution_count": 5,
   "metadata": {},
   "outputs": [
    {
     "data": {
      "text/html": [
       "<div>\n",
       "<style scoped>\n",
       "    .dataframe tbody tr th:only-of-type {\n",
       "        vertical-align: middle;\n",
       "    }\n",
       "\n",
       "    .dataframe tbody tr th {\n",
       "        vertical-align: top;\n",
       "    }\n",
       "\n",
       "    .dataframe thead th {\n",
       "        text-align: right;\n",
       "    }\n",
       "</style>\n",
       "<table border=\"1\" class=\"dataframe\">\n",
       "  <thead>\n",
       "    <tr style=\"text-align: right;\">\n",
       "      <th></th>\n",
       "      <th>0</th>\n",
       "      <th>1</th>\n",
       "      <th>2</th>\n",
       "      <th>3</th>\n",
       "      <th>4</th>\n",
       "      <th>5</th>\n",
       "      <th>6</th>\n",
       "      <th>7</th>\n",
       "      <th>8</th>\n",
       "      <th>9</th>\n",
       "      <th>...</th>\n",
       "      <th>51</th>\n",
       "      <th>52</th>\n",
       "      <th>53</th>\n",
       "      <th>54</th>\n",
       "      <th>55</th>\n",
       "      <th>56</th>\n",
       "      <th>57</th>\n",
       "      <th>58</th>\n",
       "      <th>59</th>\n",
       "      <th>60</th>\n",
       "    </tr>\n",
       "  </thead>\n",
       "  <tbody>\n",
       "    <tr>\n",
       "      <th>0</th>\n",
       "      <td>0.0200</td>\n",
       "      <td>0.0371</td>\n",
       "      <td>0.0428</td>\n",
       "      <td>0.0207</td>\n",
       "      <td>0.0954</td>\n",
       "      <td>0.0986</td>\n",
       "      <td>0.1539</td>\n",
       "      <td>0.1601</td>\n",
       "      <td>0.3109</td>\n",
       "      <td>0.2111</td>\n",
       "      <td>...</td>\n",
       "      <td>0.0027</td>\n",
       "      <td>0.0065</td>\n",
       "      <td>0.0159</td>\n",
       "      <td>0.0072</td>\n",
       "      <td>0.0167</td>\n",
       "      <td>0.0180</td>\n",
       "      <td>0.0084</td>\n",
       "      <td>0.0090</td>\n",
       "      <td>0.0032</td>\n",
       "      <td>R</td>\n",
       "    </tr>\n",
       "    <tr>\n",
       "      <th>1</th>\n",
       "      <td>0.0453</td>\n",
       "      <td>0.0523</td>\n",
       "      <td>0.0843</td>\n",
       "      <td>0.0689</td>\n",
       "      <td>0.1183</td>\n",
       "      <td>0.2583</td>\n",
       "      <td>0.2156</td>\n",
       "      <td>0.3481</td>\n",
       "      <td>0.3337</td>\n",
       "      <td>0.2872</td>\n",
       "      <td>...</td>\n",
       "      <td>0.0084</td>\n",
       "      <td>0.0089</td>\n",
       "      <td>0.0048</td>\n",
       "      <td>0.0094</td>\n",
       "      <td>0.0191</td>\n",
       "      <td>0.0140</td>\n",
       "      <td>0.0049</td>\n",
       "      <td>0.0052</td>\n",
       "      <td>0.0044</td>\n",
       "      <td>R</td>\n",
       "    </tr>\n",
       "    <tr>\n",
       "      <th>2</th>\n",
       "      <td>0.0262</td>\n",
       "      <td>0.0582</td>\n",
       "      <td>0.1099</td>\n",
       "      <td>0.1083</td>\n",
       "      <td>0.0974</td>\n",
       "      <td>0.2280</td>\n",
       "      <td>0.2431</td>\n",
       "      <td>0.3771</td>\n",
       "      <td>0.5598</td>\n",
       "      <td>0.6194</td>\n",
       "      <td>...</td>\n",
       "      <td>0.0232</td>\n",
       "      <td>0.0166</td>\n",
       "      <td>0.0095</td>\n",
       "      <td>0.0180</td>\n",
       "      <td>0.0244</td>\n",
       "      <td>0.0316</td>\n",
       "      <td>0.0164</td>\n",
       "      <td>0.0095</td>\n",
       "      <td>0.0078</td>\n",
       "      <td>R</td>\n",
       "    </tr>\n",
       "    <tr>\n",
       "      <th>3</th>\n",
       "      <td>0.0100</td>\n",
       "      <td>0.0171</td>\n",
       "      <td>0.0623</td>\n",
       "      <td>0.0205</td>\n",
       "      <td>0.0205</td>\n",
       "      <td>0.0368</td>\n",
       "      <td>0.1098</td>\n",
       "      <td>0.1276</td>\n",
       "      <td>0.0598</td>\n",
       "      <td>0.1264</td>\n",
       "      <td>...</td>\n",
       "      <td>0.0121</td>\n",
       "      <td>0.0036</td>\n",
       "      <td>0.0150</td>\n",
       "      <td>0.0085</td>\n",
       "      <td>0.0073</td>\n",
       "      <td>0.0050</td>\n",
       "      <td>0.0044</td>\n",
       "      <td>0.0040</td>\n",
       "      <td>0.0117</td>\n",
       "      <td>R</td>\n",
       "    </tr>\n",
       "    <tr>\n",
       "      <th>4</th>\n",
       "      <td>0.0762</td>\n",
       "      <td>0.0666</td>\n",
       "      <td>0.0481</td>\n",
       "      <td>0.0394</td>\n",
       "      <td>0.0590</td>\n",
       "      <td>0.0649</td>\n",
       "      <td>0.1209</td>\n",
       "      <td>0.2467</td>\n",
       "      <td>0.3564</td>\n",
       "      <td>0.4459</td>\n",
       "      <td>...</td>\n",
       "      <td>0.0031</td>\n",
       "      <td>0.0054</td>\n",
       "      <td>0.0105</td>\n",
       "      <td>0.0110</td>\n",
       "      <td>0.0015</td>\n",
       "      <td>0.0072</td>\n",
       "      <td>0.0048</td>\n",
       "      <td>0.0107</td>\n",
       "      <td>0.0094</td>\n",
       "      <td>R</td>\n",
       "    </tr>\n",
       "  </tbody>\n",
       "</table>\n",
       "<p>5 rows × 61 columns</p>\n",
       "</div>"
      ],
      "text/plain": [
       "       0       1       2       3       4       5       6       7       8   \\\n",
       "0  0.0200  0.0371  0.0428  0.0207  0.0954  0.0986  0.1539  0.1601  0.3109   \n",
       "1  0.0453  0.0523  0.0843  0.0689  0.1183  0.2583  0.2156  0.3481  0.3337   \n",
       "2  0.0262  0.0582  0.1099  0.1083  0.0974  0.2280  0.2431  0.3771  0.5598   \n",
       "3  0.0100  0.0171  0.0623  0.0205  0.0205  0.0368  0.1098  0.1276  0.0598   \n",
       "4  0.0762  0.0666  0.0481  0.0394  0.0590  0.0649  0.1209  0.2467  0.3564   \n",
       "\n",
       "       9   ...      51      52      53      54      55      56      57  \\\n",
       "0  0.2111  ...  0.0027  0.0065  0.0159  0.0072  0.0167  0.0180  0.0084   \n",
       "1  0.2872  ...  0.0084  0.0089  0.0048  0.0094  0.0191  0.0140  0.0049   \n",
       "2  0.6194  ...  0.0232  0.0166  0.0095  0.0180  0.0244  0.0316  0.0164   \n",
       "3  0.1264  ...  0.0121  0.0036  0.0150  0.0085  0.0073  0.0050  0.0044   \n",
       "4  0.4459  ...  0.0031  0.0054  0.0105  0.0110  0.0015  0.0072  0.0048   \n",
       "\n",
       "       58      59  60  \n",
       "0  0.0090  0.0032   R  \n",
       "1  0.0052  0.0044   R  \n",
       "2  0.0095  0.0078   R  \n",
       "3  0.0040  0.0117   R  \n",
       "4  0.0107  0.0094   R  \n",
       "\n",
       "[5 rows x 61 columns]"
      ]
     },
     "execution_count": 5,
     "metadata": {},
     "output_type": "execute_result"
    }
   ],
   "source": [
    "df = pd.read_csv('sonar.csv',header=None)\n",
    "df.head()"
   ]
  },
  {
   "cell_type": "code",
   "execution_count": 6,
   "metadata": {},
   "outputs": [
    {
     "data": {
      "text/plain": [
       "M    111\n",
       "R     97\n",
       "Name: 60, dtype: int64"
      ]
     },
     "execution_count": 6,
     "metadata": {},
     "output_type": "execute_result"
    }
   ],
   "source": [
    "df[60].value_counts()\n",
    "# M - Mines\n",
    "# R - Rocks"
   ]
  },
  {
   "cell_type": "code",
   "execution_count": 7,
   "metadata": {},
   "outputs": [
    {
     "data": {
      "text/plain": [
       "float64    60\n",
       "object      1\n",
       "dtype: int64"
      ]
     },
     "execution_count": 7,
     "metadata": {},
     "output_type": "execute_result"
    }
   ],
   "source": [
    "df.dtypes.value_counts()"
   ]
  },
  {
   "cell_type": "code",
   "execution_count": 8,
   "metadata": {},
   "outputs": [
    {
     "name": "stdout",
     "output_type": "stream",
     "text": [
      "(208, 60)\n",
      "(208,)\n",
      "<class 'pandas.core.frame.DataFrame'>\n",
      "<class 'pandas.core.series.Series'>\n"
     ]
    }
   ],
   "source": [
    "x = df.iloc[:,:-1]\n",
    "y = df.iloc[:,-1]\n",
    "print(x.shape)\n",
    "print(y.shape)\n",
    "print(type(x))\n",
    "print(type(y))"
   ]
  },
  {
   "cell_type": "code",
   "execution_count": 9,
   "metadata": {},
   "outputs": [
    {
     "data": {
      "text/plain": [
       "0    R\n",
       "1    R\n",
       "2    R\n",
       "3    R\n",
       "4    R\n",
       "Name: 60, dtype: object"
      ]
     },
     "execution_count": 9,
     "metadata": {},
     "output_type": "execute_result"
    }
   ],
   "source": [
    "y[:5]"
   ]
  },
  {
   "cell_type": "code",
   "execution_count": 10,
   "metadata": {},
   "outputs": [],
   "source": [
    "from sklearn.preprocessing import LabelEncoder"
   ]
  },
  {
   "cell_type": "code",
   "execution_count": 11,
   "metadata": {},
   "outputs": [],
   "source": [
    "lb = LabelEncoder()"
   ]
  },
  {
   "cell_type": "code",
   "execution_count": 12,
   "metadata": {},
   "outputs": [],
   "source": [
    "y = lb.fit_transform(y)\n",
    " \n"
   ]
  },
  {
   "cell_type": "code",
   "execution_count": 13,
   "metadata": {},
   "outputs": [],
   "source": [
    "from collections import Counter"
   ]
  },
  {
   "cell_type": "code",
   "execution_count": 14,
   "metadata": {},
   "outputs": [
    {
     "name": "stdout",
     "output_type": "stream",
     "text": [
      "Counter({0: 111, 1: 97})\n"
     ]
    }
   ],
   "source": [
    "c1 = Counter(y)\n",
    "print(c1)\n",
    "# M    111\n",
    "# R     97"
   ]
  },
  {
   "cell_type": "code",
   "execution_count": 15,
   "metadata": {},
   "outputs": [
    {
     "name": "stdout",
     "output_type": "stream",
     "text": [
      "(156, 60)\n",
      "(52, 60)\n",
      "(156,)\n",
      "(52,)\n"
     ]
    }
   ],
   "source": [
    "x_train,x_test,y_train,y_test = train_test_split(x,y,test_size=0.25)\n",
    "print(x_train.shape)\n",
    "print(x_test.shape)\n",
    "print(y_train.shape)\n",
    "print(y_test.shape)"
   ]
  },
  {
   "cell_type": "markdown",
   "metadata": {},
   "source": [
    "### Model - 1\n",
    "Without DropOut Layer"
   ]
  },
  {
   "cell_type": "code",
   "execution_count": 16,
   "metadata": {},
   "outputs": [],
   "source": [
    "from tensorflow.keras.models import Sequential\n",
    "from tensorflow.keras.layers import Dense,Dropout"
   ]
  },
  {
   "cell_type": "code",
   "execution_count": 17,
   "metadata": {},
   "outputs": [],
   "source": [
    "m1 = Sequential()\n",
    "m1.add(Dense(60,activation='relu',input_dim=60))\n",
    "m1.add(Dense(30,activation='relu'))\n",
    "m1.add(Dense(1,activation='sigmoid'))\n",
    "\n",
    "m1.compile(optimizer='adam',loss='binary_crossentropy',metrics=['acc'])"
   ]
  },
  {
   "cell_type": "code",
   "execution_count": 18,
   "metadata": {},
   "outputs": [
    {
     "name": "stdout",
     "output_type": "stream",
     "text": [
      "Epoch 1/30\n",
      "5/5 [==============================] - 1s 88ms/step - loss: 0.6862 - acc: 0.5577 - val_loss: 0.7079 - val_acc: 0.4615\n",
      "Epoch 2/30\n",
      "5/5 [==============================] - 0s 10ms/step - loss: 0.6729 - acc: 0.5962 - val_loss: 0.6871 - val_acc: 0.4808\n",
      "Epoch 3/30\n",
      "5/5 [==============================] - 0s 25ms/step - loss: 0.6642 - acc: 0.6154 - val_loss: 0.6736 - val_acc: 0.5192\n",
      "Epoch 4/30\n",
      "5/5 [==============================] - 0s 16ms/step - loss: 0.6568 - acc: 0.6282 - val_loss: 0.6676 - val_acc: 0.5385\n",
      "Epoch 5/30\n",
      "5/5 [==============================] - 0s 19ms/step - loss: 0.6503 - acc: 0.6282 - val_loss: 0.6699 - val_acc: 0.5000\n",
      "Epoch 6/30\n",
      "5/5 [==============================] - 0s 10ms/step - loss: 0.6431 - acc: 0.6282 - val_loss: 0.6665 - val_acc: 0.5192\n",
      "Epoch 7/30\n",
      "5/5 [==============================] - 0s 10ms/step - loss: 0.6365 - acc: 0.6410 - val_loss: 0.6598 - val_acc: 0.5385\n",
      "Epoch 8/30\n",
      "5/5 [==============================] - 0s 9ms/step - loss: 0.6288 - acc: 0.6410 - val_loss: 0.6489 - val_acc: 0.5962\n",
      "Epoch 9/30\n",
      "5/5 [==============================] - 0s 9ms/step - loss: 0.6226 - acc: 0.6667 - val_loss: 0.6368 - val_acc: 0.6731\n",
      "Epoch 10/30\n",
      "5/5 [==============================] - 0s 15ms/step - loss: 0.6130 - acc: 0.6795 - val_loss: 0.6279 - val_acc: 0.6731\n",
      "Epoch 11/30\n",
      "5/5 [==============================] - 0s 12ms/step - loss: 0.6045 - acc: 0.6795 - val_loss: 0.6242 - val_acc: 0.6538\n",
      "Epoch 12/30\n",
      "5/5 [==============================] - 0s 13ms/step - loss: 0.5953 - acc: 0.6795 - val_loss: 0.6174 - val_acc: 0.6538\n",
      "Epoch 13/30\n",
      "5/5 [==============================] - 0s 14ms/step - loss: 0.5853 - acc: 0.7051 - val_loss: 0.6051 - val_acc: 0.6731\n",
      "Epoch 14/30\n",
      "5/5 [==============================] - 0s 10ms/step - loss: 0.5780 - acc: 0.7308 - val_loss: 0.5853 - val_acc: 0.7500\n",
      "Epoch 15/30\n",
      "5/5 [==============================] - 0s 10ms/step - loss: 0.5640 - acc: 0.7564 - val_loss: 0.5801 - val_acc: 0.7308\n",
      "Epoch 16/30\n",
      "5/5 [==============================] - 0s 10ms/step - loss: 0.5520 - acc: 0.7500 - val_loss: 0.5728 - val_acc: 0.7500\n",
      "Epoch 17/30\n",
      "5/5 [==============================] - 0s 10ms/step - loss: 0.5410 - acc: 0.7500 - val_loss: 0.5630 - val_acc: 0.7500\n",
      "Epoch 18/30\n",
      "5/5 [==============================] - 0s 10ms/step - loss: 0.5275 - acc: 0.7628 - val_loss: 0.5467 - val_acc: 0.7308\n",
      "Epoch 19/30\n",
      "5/5 [==============================] - 0s 10ms/step - loss: 0.5153 - acc: 0.7885 - val_loss: 0.5298 - val_acc: 0.7308\n",
      "Epoch 20/30\n",
      "5/5 [==============================] - 0s 10ms/step - loss: 0.5031 - acc: 0.8077 - val_loss: 0.5211 - val_acc: 0.7308\n",
      "Epoch 21/30\n",
      "5/5 [==============================] - 0s 9ms/step - loss: 0.4892 - acc: 0.7949 - val_loss: 0.5071 - val_acc: 0.7500\n",
      "Epoch 22/30\n",
      "5/5 [==============================] - 0s 9ms/step - loss: 0.4761 - acc: 0.7949 - val_loss: 0.4919 - val_acc: 0.8269\n",
      "Epoch 23/30\n",
      "5/5 [==============================] - 0s 11ms/step - loss: 0.4619 - acc: 0.8269 - val_loss: 0.4858 - val_acc: 0.7500\n",
      "Epoch 24/30\n",
      "5/5 [==============================] - 0s 10ms/step - loss: 0.4487 - acc: 0.8205 - val_loss: 0.4715 - val_acc: 0.8077\n",
      "Epoch 25/30\n",
      "5/5 [==============================] - 0s 10ms/step - loss: 0.4464 - acc: 0.8269 - val_loss: 0.4571 - val_acc: 0.8462\n",
      "Epoch 26/30\n",
      "5/5 [==============================] - 0s 10ms/step - loss: 0.4371 - acc: 0.8333 - val_loss: 0.4686 - val_acc: 0.7692\n",
      "Epoch 27/30\n",
      "5/5 [==============================] - 0s 10ms/step - loss: 0.4195 - acc: 0.8205 - val_loss: 0.4444 - val_acc: 0.8462\n",
      "Epoch 28/30\n",
      "5/5 [==============================] - 0s 10ms/step - loss: 0.4088 - acc: 0.8333 - val_loss: 0.4354 - val_acc: 0.8846\n",
      "Epoch 29/30\n",
      "5/5 [==============================] - 0s 9ms/step - loss: 0.3999 - acc: 0.8269 - val_loss: 0.4329 - val_acc: 0.8462\n",
      "Epoch 30/30\n",
      "5/5 [==============================] - 0s 10ms/step - loss: 0.3927 - acc: 0.8526 - val_loss: 0.4328 - val_acc: 0.8269\n"
     ]
    }
   ],
   "source": [
    "h1 = m1.fit(x_train,y_train,validation_data=(x_test,y_test),epochs=30)"
   ]
  },
  {
   "cell_type": "code",
   "execution_count": 19,
   "metadata": {},
   "outputs": [
    {
     "data": {
      "text/html": [
       "<div>\n",
       "<style scoped>\n",
       "    .dataframe tbody tr th:only-of-type {\n",
       "        vertical-align: middle;\n",
       "    }\n",
       "\n",
       "    .dataframe tbody tr th {\n",
       "        vertical-align: top;\n",
       "    }\n",
       "\n",
       "    .dataframe thead th {\n",
       "        text-align: right;\n",
       "    }\n",
       "</style>\n",
       "<table border=\"1\" class=\"dataframe\">\n",
       "  <thead>\n",
       "    <tr style=\"text-align: right;\">\n",
       "      <th></th>\n",
       "      <th>loss</th>\n",
       "      <th>acc</th>\n",
       "      <th>val_loss</th>\n",
       "      <th>val_acc</th>\n",
       "      <th>Epcohs</th>\n",
       "    </tr>\n",
       "  </thead>\n",
       "  <tbody>\n",
       "    <tr>\n",
       "      <th>25</th>\n",
       "      <td>0.437067</td>\n",
       "      <td>0.833333</td>\n",
       "      <td>0.468625</td>\n",
       "      <td>0.769231</td>\n",
       "      <td>25</td>\n",
       "    </tr>\n",
       "    <tr>\n",
       "      <th>26</th>\n",
       "      <td>0.419499</td>\n",
       "      <td>0.820513</td>\n",
       "      <td>0.444397</td>\n",
       "      <td>0.846154</td>\n",
       "      <td>26</td>\n",
       "    </tr>\n",
       "    <tr>\n",
       "      <th>27</th>\n",
       "      <td>0.408779</td>\n",
       "      <td>0.833333</td>\n",
       "      <td>0.435390</td>\n",
       "      <td>0.884615</td>\n",
       "      <td>27</td>\n",
       "    </tr>\n",
       "    <tr>\n",
       "      <th>28</th>\n",
       "      <td>0.399919</td>\n",
       "      <td>0.826923</td>\n",
       "      <td>0.432937</td>\n",
       "      <td>0.846154</td>\n",
       "      <td>28</td>\n",
       "    </tr>\n",
       "    <tr>\n",
       "      <th>29</th>\n",
       "      <td>0.392727</td>\n",
       "      <td>0.852564</td>\n",
       "      <td>0.432824</td>\n",
       "      <td>0.826923</td>\n",
       "      <td>29</td>\n",
       "    </tr>\n",
       "  </tbody>\n",
       "</table>\n",
       "</div>"
      ],
      "text/plain": [
       "        loss       acc  val_loss   val_acc  Epcohs\n",
       "25  0.437067  0.833333  0.468625  0.769231      25\n",
       "26  0.419499  0.820513  0.444397  0.846154      26\n",
       "27  0.408779  0.833333  0.435390  0.884615      27\n",
       "28  0.399919  0.826923  0.432937  0.846154      28\n",
       "29  0.392727  0.852564  0.432824  0.826923      29"
      ]
     },
     "execution_count": 19,
     "metadata": {},
     "output_type": "execute_result"
    }
   ],
   "source": [
    "r1 = pd.DataFrame(h1.history)\n",
    "r1['Epcohs'] = h1.epoch\n",
    "r1.tail()"
   ]
  },
  {
   "cell_type": "code",
   "execution_count": 20,
   "metadata": {},
   "outputs": [
    {
     "data": {
      "image/png": "[encoded data removed]",
      "text/plain": [
       "<Figure size 432x288 with 1 Axes>"
      ]
     },
     "metadata": {
      "needs_background": "light"
     },
     "output_type": "display_data"
    }
   ],
   "source": [
    "plt.plot(r1['Epcohs'],r1['loss'],label='Training Loss')\n",
    "plt.plot(r1['Epcohs'],r1['val_loss'],label='Testing Loss')\n",
    "plt.xlabel('Epochs')\n",
    "plt.ylabel('Loss')\n",
    "plt.title('Epochs vs Loss')\n",
    "plt.legend()\n",
    "plt.grid()\n",
    "plt.show()"
   ]
  },
  {
   "cell_type": "markdown",
   "metadata": {},
   "source": [
    "### Model - 2\n",
    "With Dropout layer\n",
    "\n",
    "#### Regularization\n",
    "1) It is amethod to prevent overfitting <br>\n",
    "2) There are multiple wayus to achieve regularization<br>\n",
    "a) DropOut<br>\n",
    "b) Callbacks<br>\n",
    "\n",
    "#### DropOut(0.x)\n",
    "\n",
    "DropOut Layer is used to prevent overfitting. It drop x% of connection between the layers it has been aplied to.\n",
    "\n",
    "#### Callbacks\n",
    "\n",
    "<b>EarlyStopping Callbacks</b>\n",
    "In Early Stooping, in the val_loss is no longer getting reduved after the patience level of epochs then, the model stops the training any futher<br>"
   ]
  },
  {
   "cell_type": "code",
   "execution_count": 21,
   "metadata": {},
   "outputs": [],
   "source": [
    "from tensorflow.keras.models import Sequential\n",
    "from tensorflow.keras.layers import Dense,Dropout"
   ]
  },
  {
   "cell_type": "code",
   "execution_count": 22,
   "metadata": {},
   "outputs": [],
   "source": [
    "m2 = Sequential()\n",
    "m2.add(Dense(60,activation='relu',input_dim=60))\n",
    "m2.add(Dropout(0.2))\n",
    "m2.add(Dense(30,activation='relu'))\n",
    "m2.add(Dropout(0.2))\n",
    "m2.add(Dense(1,activation='sigmoid'))\n",
    "\n",
    "m2.compile(optimizer='adam',loss='binary_crossentropy',metrics=['acc'])\n"
   ]
  },
  {
   "cell_type": "code",
   "execution_count": 23,
   "metadata": {},
   "outputs": [
    {
     "name": "stdout",
     "output_type": "stream",
     "text": [
      "Epoch 1/30\n",
      "5/5 [==============================] - 1s 72ms/step - loss: 0.7110 - acc: 0.4359 - val_loss: 0.6859 - val_acc: 0.4808\n",
      "Epoch 2/30\n",
      "5/5 [==============================] - 0s 14ms/step - loss: 0.6759 - acc: 0.5769 - val_loss: 0.6882 - val_acc: 0.4615\n",
      "Epoch 3/30\n",
      "5/5 [==============================] - 0s 14ms/step - loss: 0.6658 - acc: 0.6026 - val_loss: 0.6846 - val_acc: 0.4615\n",
      "Epoch 4/30\n",
      "5/5 [==============================] - 0s 14ms/step - loss: 0.6700 - acc: 0.6026 - val_loss: 0.6793 - val_acc: 0.5000\n",
      "Epoch 5/30\n",
      "5/5 [==============================] - 0s 13ms/step - loss: 0.6665 - acc: 0.6218 - val_loss: 0.6709 - val_acc: 0.5769\n",
      "Epoch 6/30\n",
      "5/5 [==============================] - 0s 11ms/step - loss: 0.6513 - acc: 0.6346 - val_loss: 0.6697 - val_acc: 0.5385\n",
      "Epoch 7/30\n",
      "5/5 [==============================] - 0s 16ms/step - loss: 0.6299 - acc: 0.6410 - val_loss: 0.6711 - val_acc: 0.5192\n",
      "Epoch 8/30\n",
      "5/5 [==============================] - 0s 18ms/step - loss: 0.6564 - acc: 0.5962 - val_loss: 0.6646 - val_acc: 0.5192\n",
      "Epoch 9/30\n",
      "5/5 [==============================] - 0s 17ms/step - loss: 0.6255 - acc: 0.6603 - val_loss: 0.6562 - val_acc: 0.6154\n",
      "Epoch 10/30\n",
      "5/5 [==============================] - 0s 15ms/step - loss: 0.6131 - acc: 0.6667 - val_loss: 0.6402 - val_acc: 0.6538\n",
      "Epoch 11/30\n",
      "5/5 [==============================] - 0s 16ms/step - loss: 0.6259 - acc: 0.6474 - val_loss: 0.6225 - val_acc: 0.7308\n",
      "Epoch 12/30\n",
      "5/5 [==============================] - 0s 13ms/step - loss: 0.6120 - acc: 0.6987 - val_loss: 0.6129 - val_acc: 0.7115\n",
      "Epoch 13/30\n",
      "5/5 [==============================] - 0s 13ms/step - loss: 0.5910 - acc: 0.7051 - val_loss: 0.6046 - val_acc: 0.7115\n",
      "Epoch 14/30\n",
      "5/5 [==============================] - 0s 13ms/step - loss: 0.5815 - acc: 0.6795 - val_loss: 0.6048 - val_acc: 0.6538\n",
      "Epoch 15/30\n",
      "5/5 [==============================] - 0s 15ms/step - loss: 0.5857 - acc: 0.7051 - val_loss: 0.5875 - val_acc: 0.7115\n",
      "Epoch 16/30\n",
      "5/5 [==============================] - 0s 13ms/step - loss: 0.5651 - acc: 0.7372 - val_loss: 0.5761 - val_acc: 0.7115\n",
      "Epoch 17/30\n",
      "5/5 [==============================] - 0s 14ms/step - loss: 0.5621 - acc: 0.7244 - val_loss: 0.5573 - val_acc: 0.7692\n",
      "Epoch 18/30\n",
      "5/5 [==============================] - 0s 12ms/step - loss: 0.5471 - acc: 0.7436 - val_loss: 0.5508 - val_acc: 0.7500\n",
      "Epoch 19/30\n",
      "5/5 [==============================] - 0s 13ms/step - loss: 0.5375 - acc: 0.7628 - val_loss: 0.5405 - val_acc: 0.7500\n",
      "Epoch 20/30\n",
      "5/5 [==============================] - 0s 14ms/step - loss: 0.5356 - acc: 0.7564 - val_loss: 0.5346 - val_acc: 0.7500\n",
      "Epoch 21/30\n",
      "5/5 [==============================] - 0s 14ms/step - loss: 0.5291 - acc: 0.7692 - val_loss: 0.5290 - val_acc: 0.7308\n",
      "Epoch 22/30\n",
      "5/5 [==============================] - 0s 13ms/step - loss: 0.4943 - acc: 0.7949 - val_loss: 0.5082 - val_acc: 0.8269\n",
      "Epoch 23/30\n",
      "5/5 [==============================] - 0s 13ms/step - loss: 0.4848 - acc: 0.8013 - val_loss: 0.5004 - val_acc: 0.8462\n",
      "Epoch 24/30\n",
      "5/5 [==============================] - 0s 13ms/step - loss: 0.4847 - acc: 0.8077 - val_loss: 0.4941 - val_acc: 0.8077\n",
      "Epoch 25/30\n",
      "5/5 [==============================] - 0s 17ms/step - loss: 0.4796 - acc: 0.7756 - val_loss: 0.4823 - val_acc: 0.8654\n",
      "Epoch 26/30\n",
      "5/5 [==============================] - 0s 13ms/step - loss: 0.5079 - acc: 0.7372 - val_loss: 0.4917 - val_acc: 0.7500\n",
      "Epoch 27/30\n",
      "5/5 [==============================] - 0s 25ms/step - loss: 0.4898 - acc: 0.7308 - val_loss: 0.4711 - val_acc: 0.8462\n",
      "Epoch 28/30\n",
      "5/5 [==============================] - 0s 16ms/step - loss: 0.4700 - acc: 0.8013 - val_loss: 0.4561 - val_acc: 0.8269\n",
      "Epoch 29/30\n",
      "5/5 [==============================] - 0s 16ms/step - loss: 0.4561 - acc: 0.8013 - val_loss: 0.4657 - val_acc: 0.8077\n",
      "Epoch 30/30\n",
      "5/5 [==============================] - 0s 15ms/step - loss: 0.4568 - acc: 0.8013 - val_loss: 0.4557 - val_acc: 0.8462\n"
     ]
    }
   ],
   "source": [
    "h2 = m2.fit(x_train,y_train,validation_data=(x_test,y_test),epochs=30)"
   ]
  },
  {
   "cell_type": "code",
   "execution_count": 25,
   "metadata": {},
   "outputs": [
    {
     "data": {
      "text/html": [
       "<div>\n",
       "<style scoped>\n",
       "    .dataframe tbody tr th:only-of-type {\n",
       "        vertical-align: middle;\n",
       "    }\n",
       "\n",
       "    .dataframe tbody tr th {\n",
       "        vertical-align: top;\n",
       "    }\n",
       "\n",
       "    .dataframe thead th {\n",
       "        text-align: right;\n",
       "    }\n",
       "</style>\n",
       "<table border=\"1\" class=\"dataframe\">\n",
       "  <thead>\n",
       "    <tr style=\"text-align: right;\">\n",
       "      <th></th>\n",
       "      <th>loss</th>\n",
       "      <th>acc</th>\n",
       "      <th>val_loss</th>\n",
       "      <th>val_acc</th>\n",
       "      <th>Epcohs</th>\n",
       "    </tr>\n",
       "  </thead>\n",
       "  <tbody>\n",
       "    <tr>\n",
       "      <th>25</th>\n",
       "      <td>0.507894</td>\n",
       "      <td>0.737179</td>\n",
       "      <td>0.491737</td>\n",
       "      <td>0.750000</td>\n",
       "      <td>25</td>\n",
       "    </tr>\n",
       "    <tr>\n",
       "      <th>26</th>\n",
       "      <td>0.489834</td>\n",
       "      <td>0.730769</td>\n",
       "      <td>0.471080</td>\n",
       "      <td>0.846154</td>\n",
       "      <td>26</td>\n",
       "    </tr>\n",
       "    <tr>\n",
       "      <th>27</th>\n",
       "      <td>0.469999</td>\n",
       "      <td>0.801282</td>\n",
       "      <td>0.456138</td>\n",
       "      <td>0.826923</td>\n",
       "      <td>27</td>\n",
       "    </tr>\n",
       "    <tr>\n",
       "      <th>28</th>\n",
       "      <td>0.456074</td>\n",
       "      <td>0.801282</td>\n",
       "      <td>0.465659</td>\n",
       "      <td>0.807692</td>\n",
       "      <td>28</td>\n",
       "    </tr>\n",
       "    <tr>\n",
       "      <th>29</th>\n",
       "      <td>0.456809</td>\n",
       "      <td>0.801282</td>\n",
       "      <td>0.455670</td>\n",
       "      <td>0.846154</td>\n",
       "      <td>29</td>\n",
       "    </tr>\n",
       "  </tbody>\n",
       "</table>\n",
       "</div>"
      ],
      "text/plain": [
       "        loss       acc  val_loss   val_acc  Epcohs\n",
       "25  0.507894  0.737179  0.491737  0.750000      25\n",
       "26  0.489834  0.730769  0.471080  0.846154      26\n",
       "27  0.469999  0.801282  0.456138  0.826923      27\n",
       "28  0.456074  0.801282  0.465659  0.807692      28\n",
       "29  0.456809  0.801282  0.455670  0.846154      29"
      ]
     },
     "execution_count": 25,
     "metadata": {},
     "output_type": "execute_result"
    }
   ],
   "source": [
    "r2 = pd.DataFrame(h2.history)\n",
    "r2['Epcohs'] = h2.epoch\n",
    "r2.tail()"
   ]
  },
  {
   "cell_type": "code",
   "execution_count": 26,
   "metadata": {},
   "outputs": [
    {
     "data": {
      "image/png": "[encoded data removed]",
      "text/plain": [
       "<Figure size 432x288 with 1 Axes>"
      ]
     },
     "metadata": {
      "needs_background": "light"
     },
     "output_type": "display_data"
    }
   ],
   "source": [
    "plt.plot(r2['Epcohs'],r2['loss'],label='Training Loss')\n",
    "plt.plot(r2['Epcohs'],r2['val_loss'],label='Testing Loss')\n",
    "plt.xlabel('Epochs')\n",
    "plt.ylabel('Loss')\n",
    "plt.title('Epochs vs Loss')\n",
    "plt.legend()\n",
    "plt.grid()\n",
    "plt.show()"
   ]
  }
 ],
 "metadata": {
  "kernelspec": {
   "display_name": "Python 3.10.2 64-bit",
   "language": "python",
   "name": "python3"
  },
  "language_info": {
   "codemirror_mode": {
    "name": "ipython",
    "version": 3
   },
   "file_extension": ".py",
   "mimetype": "text/x-python",
   "name": "python",
   "nbconvert_exporter": "python",
   "pygments_lexer": "ipython3",
   "version": "3.10.2"
  },
  "orig_nbformat": 4,
  "vscode": {
   "interpreter": {
    "hash": "26de051ba29f2982a8de78e945f0abaf191376122a1563185a90213a26c5da77"
   }
  }
 },
 "nbformat": 4,
 "nbformat_minor": 2
}
