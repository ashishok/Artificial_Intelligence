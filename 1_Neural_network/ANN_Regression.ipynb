{
 "cells": [
  {
   "cell_type": "markdown",
   "metadata": {},
   "source": [
    "### ANN Regression\n",
    "1) The Activation function used in hidden layer - Relu,LeakyRelu<br>\n",
    "2) The Activation function used in output layer - linear<br>\n",
    "3) Optimizer - adam, rmsprop, sgd<br>\n",
    "4) Loss function - mse, mae<br>"
   ]
  },
  {
   "cell_type": "code",
   "execution_count": 1,
   "metadata": {},
   "outputs": [],
   "source": [
    "import numpy as np\n",
    "import pandas as pd\n",
    "import matplotlib.pyplot as plt"
   ]
  },
  {
   "cell_type": "code",
   "execution_count": 2,
   "metadata": {},
   "outputs": [
    {
     "data": {
      "text/html": [
       "<div>\n",
       "<style scoped>\n",
       "    .dataframe tbody tr th:only-of-type {\n",
       "        vertical-align: middle;\n",
       "    }\n",
       "\n",
       "    .dataframe tbody tr th {\n",
       "        vertical-align: top;\n",
       "    }\n",
       "\n",
       "    .dataframe thead th {\n",
       "        text-align: right;\n",
       "    }\n",
       "</style>\n",
       "<table border=\"1\" class=\"dataframe\">\n",
       "  <thead>\n",
       "    <tr style=\"text-align: right;\">\n",
       "      <th></th>\n",
       "      <th>Unnamed: 0</th>\n",
       "      <th>Age</th>\n",
       "      <th>KM</th>\n",
       "      <th>Weight</th>\n",
       "      <th>HP</th>\n",
       "      <th>MetColor</th>\n",
       "      <th>CC</th>\n",
       "      <th>Doors</th>\n",
       "      <th>Price</th>\n",
       "    </tr>\n",
       "  </thead>\n",
       "  <tbody>\n",
       "    <tr>\n",
       "      <th>0</th>\n",
       "      <td>0</td>\n",
       "      <td>23.0</td>\n",
       "      <td>46986</td>\n",
       "      <td>1165.0</td>\n",
       "      <td>90</td>\n",
       "      <td>1</td>\n",
       "      <td>2000.0</td>\n",
       "      <td>3</td>\n",
       "      <td>13500</td>\n",
       "    </tr>\n",
       "    <tr>\n",
       "      <th>1</th>\n",
       "      <td>1</td>\n",
       "      <td>23.0</td>\n",
       "      <td>72937</td>\n",
       "      <td>1165.0</td>\n",
       "      <td>90</td>\n",
       "      <td>1</td>\n",
       "      <td>2000.0</td>\n",
       "      <td>3</td>\n",
       "      <td>13750</td>\n",
       "    </tr>\n",
       "    <tr>\n",
       "      <th>2</th>\n",
       "      <td>2</td>\n",
       "      <td>24.0</td>\n",
       "      <td>41711</td>\n",
       "      <td>1165.0</td>\n",
       "      <td>90</td>\n",
       "      <td>1</td>\n",
       "      <td>2000.0</td>\n",
       "      <td>3</td>\n",
       "      <td>13950</td>\n",
       "    </tr>\n",
       "    <tr>\n",
       "      <th>3</th>\n",
       "      <td>3</td>\n",
       "      <td>26.0</td>\n",
       "      <td>48000</td>\n",
       "      <td>1165.0</td>\n",
       "      <td>90</td>\n",
       "      <td>0</td>\n",
       "      <td>2000.0</td>\n",
       "      <td>3</td>\n",
       "      <td>14950</td>\n",
       "    </tr>\n",
       "    <tr>\n",
       "      <th>4</th>\n",
       "      <td>4</td>\n",
       "      <td>30.0</td>\n",
       "      <td>38500</td>\n",
       "      <td>1170.0</td>\n",
       "      <td>90</td>\n",
       "      <td>0</td>\n",
       "      <td>2000.0</td>\n",
       "      <td>3</td>\n",
       "      <td>13750</td>\n",
       "    </tr>\n",
       "  </tbody>\n",
       "</table>\n",
       "</div>"
      ],
      "text/plain": [
       "   Unnamed: 0   Age     KM  Weight  HP  MetColor      CC  Doors  Price\n",
       "0           0  23.0  46986  1165.0  90         1  2000.0      3  13500\n",
       "1           1  23.0  72937  1165.0  90         1  2000.0      3  13750\n",
       "2           2  24.0  41711  1165.0  90         1  2000.0      3  13950\n",
       "3           3  26.0  48000  1165.0  90         0  2000.0      3  14950\n",
       "4           4  30.0  38500  1170.0  90         0  2000.0      3  13750"
      ]
     },
     "execution_count": 2,
     "metadata": {},
     "output_type": "execute_result"
    }
   ],
   "source": [
    "df = pd.read_csv('car_price.csv')\n",
    "df.head()"
   ]
  },
  {
   "cell_type": "code",
   "execution_count": 3,
   "metadata": {},
   "outputs": [
    {
     "data": {
      "text/plain": [
       "(1435, 9)"
      ]
     },
     "execution_count": 3,
     "metadata": {},
     "output_type": "execute_result"
    }
   ],
   "source": [
    "df.shape\n",
    "# 1435 - no of rows, 9 - no of columns"
   ]
  },
  {
   "cell_type": "code",
   "execution_count": 4,
   "metadata": {},
   "outputs": [
    {
     "data": {
      "text/plain": [
       "Index(['Unnamed: 0', 'Age', 'KM', 'Weight', 'HP', 'MetColor', 'CC', 'Doors',\n",
       "       'Price'],\n",
       "      dtype='object')"
      ]
     },
     "execution_count": 4,
     "metadata": {},
     "output_type": "execute_result"
    }
   ],
   "source": [
    "df.columns"
   ]
  },
  {
   "cell_type": "code",
   "execution_count": 5,
   "metadata": {},
   "outputs": [
    {
     "data": {
      "text/plain": [
       "1435"
      ]
     },
     "execution_count": 5,
     "metadata": {},
     "output_type": "execute_result"
    }
   ],
   "source": [
    "df['Unnamed: 0'].nunique()"
   ]
  },
  {
   "cell_type": "code",
   "execution_count": 6,
   "metadata": {},
   "outputs": [
    {
     "data": {
      "text/html": [
       "<div>\n",
       "<style scoped>\n",
       "    .dataframe tbody tr th:only-of-type {\n",
       "        vertical-align: middle;\n",
       "    }\n",
       "\n",
       "    .dataframe tbody tr th {\n",
       "        vertical-align: top;\n",
       "    }\n",
       "\n",
       "    .dataframe thead th {\n",
       "        text-align: right;\n",
       "    }\n",
       "</style>\n",
       "<table border=\"1\" class=\"dataframe\">\n",
       "  <thead>\n",
       "    <tr style=\"text-align: right;\">\n",
       "      <th></th>\n",
       "      <th>Age</th>\n",
       "      <th>KM</th>\n",
       "      <th>Weight</th>\n",
       "      <th>HP</th>\n",
       "      <th>MetColor</th>\n",
       "      <th>CC</th>\n",
       "      <th>Doors</th>\n",
       "      <th>Price</th>\n",
       "    </tr>\n",
       "  </thead>\n",
       "  <tbody>\n",
       "    <tr>\n",
       "      <th>0</th>\n",
       "      <td>23.0</td>\n",
       "      <td>46986</td>\n",
       "      <td>1165.0</td>\n",
       "      <td>90</td>\n",
       "      <td>1</td>\n",
       "      <td>2000.0</td>\n",
       "      <td>3</td>\n",
       "      <td>13500</td>\n",
       "    </tr>\n",
       "    <tr>\n",
       "      <th>1</th>\n",
       "      <td>23.0</td>\n",
       "      <td>72937</td>\n",
       "      <td>1165.0</td>\n",
       "      <td>90</td>\n",
       "      <td>1</td>\n",
       "      <td>2000.0</td>\n",
       "      <td>3</td>\n",
       "      <td>13750</td>\n",
       "    </tr>\n",
       "    <tr>\n",
       "      <th>2</th>\n",
       "      <td>24.0</td>\n",
       "      <td>41711</td>\n",
       "      <td>1165.0</td>\n",
       "      <td>90</td>\n",
       "      <td>1</td>\n",
       "      <td>2000.0</td>\n",
       "      <td>3</td>\n",
       "      <td>13950</td>\n",
       "    </tr>\n",
       "    <tr>\n",
       "      <th>3</th>\n",
       "      <td>26.0</td>\n",
       "      <td>48000</td>\n",
       "      <td>1165.0</td>\n",
       "      <td>90</td>\n",
       "      <td>0</td>\n",
       "      <td>2000.0</td>\n",
       "      <td>3</td>\n",
       "      <td>14950</td>\n",
       "    </tr>\n",
       "    <tr>\n",
       "      <th>4</th>\n",
       "      <td>30.0</td>\n",
       "      <td>38500</td>\n",
       "      <td>1170.0</td>\n",
       "      <td>90</td>\n",
       "      <td>0</td>\n",
       "      <td>2000.0</td>\n",
       "      <td>3</td>\n",
       "      <td>13750</td>\n",
       "    </tr>\n",
       "  </tbody>\n",
       "</table>\n",
       "</div>"
      ],
      "text/plain": [
       "    Age     KM  Weight  HP  MetColor      CC  Doors  Price\n",
       "0  23.0  46986  1165.0  90         1  2000.0      3  13500\n",
       "1  23.0  72937  1165.0  90         1  2000.0      3  13750\n",
       "2  24.0  41711  1165.0  90         1  2000.0      3  13950\n",
       "3  26.0  48000  1165.0  90         0  2000.0      3  14950\n",
       "4  30.0  38500  1170.0  90         0  2000.0      3  13750"
      ]
     },
     "execution_count": 6,
     "metadata": {},
     "output_type": "execute_result"
    }
   ],
   "source": [
    "df.drop('Unnamed: 0',axis=1,inplace=True)\n",
    "df.head()"
   ]
  },
  {
   "cell_type": "code",
   "execution_count": 7,
   "metadata": {},
   "outputs": [
    {
     "data": {
      "text/plain": [
       "Age         0\n",
       "KM          0\n",
       "Weight      0\n",
       "HP          0\n",
       "MetColor    0\n",
       "CC          0\n",
       "Doors       0\n",
       "Price       0\n",
       "dtype: int64"
      ]
     },
     "execution_count": 7,
     "metadata": {},
     "output_type": "execute_result"
    }
   ],
   "source": [
    "df.isnull().sum()"
   ]
  },
  {
   "cell_type": "code",
   "execution_count": 8,
   "metadata": {},
   "outputs": [
    {
     "data": {
      "text/plain": [
       "0"
      ]
     },
     "execution_count": 8,
     "metadata": {},
     "output_type": "execute_result"
    }
   ],
   "source": [
    "df.duplicated().sum()"
   ]
  },
  {
   "cell_type": "code",
   "execution_count": 9,
   "metadata": {},
   "outputs": [
    {
     "data": {
      "text/plain": [
       "Age         float64\n",
       "KM            int64\n",
       "Weight      float64\n",
       "HP            int64\n",
       "MetColor      int64\n",
       "CC          float64\n",
       "Doors         int64\n",
       "Price         int64\n",
       "dtype: object"
      ]
     },
     "execution_count": 9,
     "metadata": {},
     "output_type": "execute_result"
    }
   ],
   "source": [
    "df.dtypes"
   ]
  },
  {
   "cell_type": "code",
   "execution_count": 10,
   "metadata": {},
   "outputs": [
    {
     "data": {
      "text/html": [
       "<div>\n",
       "<style scoped>\n",
       "    .dataframe tbody tr th:only-of-type {\n",
       "        vertical-align: middle;\n",
       "    }\n",
       "\n",
       "    .dataframe tbody tr th {\n",
       "        vertical-align: top;\n",
       "    }\n",
       "\n",
       "    .dataframe thead th {\n",
       "        text-align: right;\n",
       "    }\n",
       "</style>\n",
       "<table border=\"1\" class=\"dataframe\">\n",
       "  <thead>\n",
       "    <tr style=\"text-align: right;\">\n",
       "      <th></th>\n",
       "      <th>Age</th>\n",
       "      <th>KM</th>\n",
       "      <th>Weight</th>\n",
       "      <th>HP</th>\n",
       "      <th>MetColor</th>\n",
       "      <th>CC</th>\n",
       "      <th>Doors</th>\n",
       "      <th>Price</th>\n",
       "    </tr>\n",
       "  </thead>\n",
       "  <tbody>\n",
       "    <tr>\n",
       "      <th>0</th>\n",
       "      <td>23.0</td>\n",
       "      <td>46986</td>\n",
       "      <td>1165.0</td>\n",
       "      <td>90</td>\n",
       "      <td>1</td>\n",
       "      <td>2000.0</td>\n",
       "      <td>3</td>\n",
       "      <td>13500</td>\n",
       "    </tr>\n",
       "    <tr>\n",
       "      <th>1</th>\n",
       "      <td>23.0</td>\n",
       "      <td>72937</td>\n",
       "      <td>1165.0</td>\n",
       "      <td>90</td>\n",
       "      <td>1</td>\n",
       "      <td>2000.0</td>\n",
       "      <td>3</td>\n",
       "      <td>13750</td>\n",
       "    </tr>\n",
       "    <tr>\n",
       "      <th>2</th>\n",
       "      <td>24.0</td>\n",
       "      <td>41711</td>\n",
       "      <td>1165.0</td>\n",
       "      <td>90</td>\n",
       "      <td>1</td>\n",
       "      <td>2000.0</td>\n",
       "      <td>3</td>\n",
       "      <td>13950</td>\n",
       "    </tr>\n",
       "    <tr>\n",
       "      <th>3</th>\n",
       "      <td>26.0</td>\n",
       "      <td>48000</td>\n",
       "      <td>1165.0</td>\n",
       "      <td>90</td>\n",
       "      <td>0</td>\n",
       "      <td>2000.0</td>\n",
       "      <td>3</td>\n",
       "      <td>14950</td>\n",
       "    </tr>\n",
       "    <tr>\n",
       "      <th>4</th>\n",
       "      <td>30.0</td>\n",
       "      <td>38500</td>\n",
       "      <td>1170.0</td>\n",
       "      <td>90</td>\n",
       "      <td>0</td>\n",
       "      <td>2000.0</td>\n",
       "      <td>3</td>\n",
       "      <td>13750</td>\n",
       "    </tr>\n",
       "  </tbody>\n",
       "</table>\n",
       "</div>"
      ],
      "text/plain": [
       "    Age     KM  Weight  HP  MetColor      CC  Doors  Price\n",
       "0  23.0  46986  1165.0  90         1  2000.0      3  13500\n",
       "1  23.0  72937  1165.0  90         1  2000.0      3  13750\n",
       "2  24.0  41711  1165.0  90         1  2000.0      3  13950\n",
       "3  26.0  48000  1165.0  90         0  2000.0      3  14950\n",
       "4  30.0  38500  1170.0  90         0  2000.0      3  13750"
      ]
     },
     "execution_count": 10,
     "metadata": {},
     "output_type": "execute_result"
    }
   ],
   "source": [
    "df.head()"
   ]
  },
  {
   "cell_type": "code",
   "execution_count": 11,
   "metadata": {},
   "outputs": [],
   "source": [
    "# df.iloc[:,:-1].head()"
   ]
  },
  {
   "cell_type": "code",
   "execution_count": 12,
   "metadata": {},
   "outputs": [
    {
     "name": "stdout",
     "output_type": "stream",
     "text": [
      "<class 'pandas.core.frame.DataFrame'>\n",
      "<class 'pandas.core.series.Series'>\n",
      "(1435, 7)\n",
      "(1435,)\n"
     ]
    }
   ],
   "source": [
    "x = df.iloc[:,:-1]  # x = df.drop('Price',axis=1)\n",
    "y = df['Price']\n",
    "print(type(x))\n",
    "print(type(y))\n",
    "print(x.shape)\n",
    "print(y.shape)"
   ]
  },
  {
   "cell_type": "code",
   "execution_count": 13,
   "metadata": {},
   "outputs": [],
   "source": [
    "from sklearn.model_selection import train_test_split"
   ]
  },
  {
   "cell_type": "code",
   "execution_count": 14,
   "metadata": {},
   "outputs": [
    {
     "name": "stdout",
     "output_type": "stream",
     "text": [
      "(1076, 7)\n",
      "(359, 7)\n",
      "(1076,)\n",
      "(359,)\n"
     ]
    }
   ],
   "source": [
    "x_train,x_test,y_train,y_test = train_test_split(x,y,test_size=0.25)\n",
    "print(x_train.shape)\n",
    "print(x_test.shape)\n",
    "print(y_train.shape)\n",
    "print(y_test.shape)"
   ]
  },
  {
   "cell_type": "markdown",
   "metadata": {},
   "source": [
    "#### Build the model"
   ]
  },
  {
   "cell_type": "code",
   "execution_count": 15,
   "metadata": {},
   "outputs": [],
   "source": [
    "from tensorflow.keras.models import Sequential\n",
    "from tensorflow.keras.layers import Dense\n",
    "from tensorflow.keras.optimizers import Adam, SGD"
   ]
  },
  {
   "cell_type": "markdown",
   "metadata": {},
   "source": [
    "#### Model Architecture - M1"
   ]
  },
  {
   "cell_type": "code",
   "execution_count": 16,
   "metadata": {},
   "outputs": [],
   "source": [
    "m1 = Sequential()                                  # Input layer has 7 neruons\n",
    "m1.add(Dense(21,activation='relu',input_dim=7))    # H1 - has 21 neurons\n",
    "m1.add(Dense(14,activation='relu'))                # H2 - has 14 neurons\n",
    "m1.add(Dense(7,activation='relu'))                 # H3 - has 7 neurons\n",
    "m1.add(Dense(1))                                   # Output layer has 1 neuron - linear activation function is used \n",
    "\n",
    "m1.compile(optimizer='adam',loss='mse' )"
   ]
  },
  {
   "cell_type": "code",
   "execution_count": 17,
   "metadata": {},
   "outputs": [
    {
     "name": "stdout",
     "output_type": "stream",
     "text": [
      "Epoch 1/50\n",
      "34/34 [==============================] - 2s 16ms/step - loss: 197565456.0000 - val_loss: 109322552.0000\n",
      "Epoch 2/50\n",
      "34/34 [==============================] - 0s 4ms/step - loss: 101693976.0000 - val_loss: 90383144.0000\n",
      "Epoch 3/50\n",
      "34/34 [==============================] - 0s 4ms/step - loss: 80289832.0000 - val_loss: 67921472.0000\n",
      "Epoch 4/50\n",
      "34/34 [==============================] - 0s 4ms/step - loss: 61024556.0000 - val_loss: 57300160.0000\n",
      "Epoch 5/50\n",
      "34/34 [==============================] - 0s 4ms/step - loss: 56193672.0000 - val_loss: 57357396.0000\n",
      "Epoch 6/50\n",
      "34/34 [==============================] - 0s 4ms/step - loss: 56215956.0000 - val_loss: 57118964.0000\n",
      "Epoch 7/50\n",
      "34/34 [==============================] - 0s 4ms/step - loss: 55953272.0000 - val_loss: 57091348.0000\n",
      "Epoch 8/50\n",
      "34/34 [==============================] - 0s 5ms/step - loss: 55829372.0000 - val_loss: 56859052.0000\n",
      "Epoch 9/50\n",
      "34/34 [==============================] - 0s 5ms/step - loss: 55656360.0000 - val_loss: 56807152.0000\n",
      "Epoch 10/50\n",
      "34/34 [==============================] - 0s 5ms/step - loss: 55509168.0000 - val_loss: 56447268.0000\n",
      "Epoch 11/50\n",
      "34/34 [==============================] - 0s 4ms/step - loss: 54961928.0000 - val_loss: 55350720.0000\n",
      "Epoch 12/50\n",
      "34/34 [==============================] - 0s 5ms/step - loss: 54029692.0000 - val_loss: 54489124.0000\n",
      "Epoch 13/50\n",
      "34/34 [==============================] - 0s 5ms/step - loss: 53195940.0000 - val_loss: 53481368.0000\n",
      "Epoch 14/50\n",
      "34/34 [==============================] - 0s 4ms/step - loss: 49261808.0000 - val_loss: 42435296.0000\n",
      "Epoch 15/50\n",
      "34/34 [==============================] - 0s 4ms/step - loss: 35136836.0000 - val_loss: 28766014.0000\n",
      "Epoch 16/50\n",
      "34/34 [==============================] - 0s 4ms/step - loss: 23738978.0000 - val_loss: 15644641.0000\n",
      "Epoch 17/50\n",
      "34/34 [==============================] - 0s 4ms/step - loss: 12710705.0000 - val_loss: 9485812.0000\n",
      "Epoch 18/50\n",
      "34/34 [==============================] - 0s 4ms/step - loss: 8599670.0000 - val_loss: 8029697.5000\n",
      "Epoch 19/50\n",
      "34/34 [==============================] - 0s 4ms/step - loss: 7167160.0000 - val_loss: 6297860.5000\n",
      "Epoch 20/50\n",
      "34/34 [==============================] - 0s 4ms/step - loss: 6593196.5000 - val_loss: 6123867.5000\n",
      "Epoch 21/50\n",
      "34/34 [==============================] - 0s 4ms/step - loss: 6320718.0000 - val_loss: 6114105.0000\n",
      "Epoch 22/50\n",
      "34/34 [==============================] - 0s 4ms/step - loss: 6013379.0000 - val_loss: 5948267.5000\n",
      "Epoch 23/50\n",
      "34/34 [==============================] - 0s 9ms/step - loss: 5965551.0000 - val_loss: 6334524.0000\n",
      "Epoch 24/50\n",
      "34/34 [==============================] - 0s 6ms/step - loss: 6030049.0000 - val_loss: 6102302.5000\n",
      "Epoch 25/50\n",
      "34/34 [==============================] - 0s 6ms/step - loss: 5936449.5000 - val_loss: 5412293.5000\n",
      "Epoch 26/50\n",
      "34/34 [==============================] - 0s 7ms/step - loss: 6003247.0000 - val_loss: 5614073.0000\n",
      "Epoch 27/50\n",
      "34/34 [==============================] - 0s 4ms/step - loss: 5635940.5000 - val_loss: 5499103.0000\n",
      "Epoch 28/50\n",
      "34/34 [==============================] - 0s 4ms/step - loss: 5623698.5000 - val_loss: 5249264.0000\n",
      "Epoch 29/50\n",
      "34/34 [==============================] - 0s 4ms/step - loss: 5452470.0000 - val_loss: 5312733.0000\n",
      "Epoch 30/50\n",
      "34/34 [==============================] - 0s 5ms/step - loss: 5429262.0000 - val_loss: 5331084.0000\n",
      "Epoch 31/50\n",
      "34/34 [==============================] - 0s 6ms/step - loss: 5355483.5000 - val_loss: 5242739.5000\n",
      "Epoch 32/50\n",
      "34/34 [==============================] - 0s 8ms/step - loss: 5370619.5000 - val_loss: 5190621.0000\n",
      "Epoch 33/50\n",
      "34/34 [==============================] - 0s 10ms/step - loss: 5406236.0000 - val_loss: 5145856.5000\n",
      "Epoch 34/50\n",
      "34/34 [==============================] - 0s 5ms/step - loss: 5372099.5000 - val_loss: 5120004.0000\n",
      "Epoch 35/50\n",
      "34/34 [==============================] - 0s 3ms/step - loss: 5402297.5000 - val_loss: 5689735.0000\n",
      "Epoch 36/50\n",
      "34/34 [==============================] - 0s 3ms/step - loss: 5374071.0000 - val_loss: 4974394.0000\n",
      "Epoch 37/50\n",
      "34/34 [==============================] - 0s 10ms/step - loss: 5387059.5000 - val_loss: 4987219.5000\n",
      "Epoch 38/50\n",
      "34/34 [==============================] - 0s 4ms/step - loss: 5381554.0000 - val_loss: 5180374.0000\n",
      "Epoch 39/50\n",
      "34/34 [==============================] - 0s 5ms/step - loss: 5273148.0000 - val_loss: 4963068.5000\n",
      "Epoch 40/50\n",
      "34/34 [==============================] - 0s 5ms/step - loss: 5442814.0000 - val_loss: 4996536.0000\n",
      "Epoch 41/50\n",
      "34/34 [==============================] - 0s 5ms/step - loss: 5152525.5000 - val_loss: 4974210.0000\n",
      "Epoch 42/50\n",
      "34/34 [==============================] - 0s 4ms/step - loss: 5085345.0000 - val_loss: 5056471.5000\n",
      "Epoch 43/50\n",
      "34/34 [==============================] - 0s 5ms/step - loss: 5103144.0000 - val_loss: 5096730.0000\n",
      "Epoch 44/50\n",
      "34/34 [==============================] - 0s 5ms/step - loss: 5142159.5000 - val_loss: 5907629.0000\n",
      "Epoch 45/50\n",
      "34/34 [==============================] - 0s 4ms/step - loss: 5190533.5000 - val_loss: 4979014.0000\n",
      "Epoch 46/50\n",
      "34/34 [==============================] - 0s 4ms/step - loss: 5217057.5000 - val_loss: 4915876.5000\n",
      "Epoch 47/50\n",
      "34/34 [==============================] - 0s 4ms/step - loss: 5557669.0000 - val_loss: 4950165.0000\n",
      "Epoch 48/50\n",
      "34/34 [==============================] - 0s 4ms/step - loss: 5205052.0000 - val_loss: 4828989.5000\n",
      "Epoch 49/50\n",
      "34/34 [==============================] - 0s 4ms/step - loss: 5005947.0000 - val_loss: 5947925.0000\n",
      "Epoch 50/50\n",
      "34/34 [==============================] - 0s 4ms/step - loss: 4993515.0000 - val_loss: 5024845.5000\n"
     ]
    }
   ],
   "source": [
    "h1 = m1.fit(x_train,y_train,validation_data=(x_test,y_test),epochs=50)"
   ]
  },
  {
   "cell_type": "code",
   "execution_count": 18,
   "metadata": {},
   "outputs": [
    {
     "data": {
      "text/html": [
       "<div>\n",
       "<style scoped>\n",
       "    .dataframe tbody tr th:only-of-type {\n",
       "        vertical-align: middle;\n",
       "    }\n",
       "\n",
       "    .dataframe tbody tr th {\n",
       "        vertical-align: top;\n",
       "    }\n",
       "\n",
       "    .dataframe thead th {\n",
       "        text-align: right;\n",
       "    }\n",
       "</style>\n",
       "<table border=\"1\" class=\"dataframe\">\n",
       "  <thead>\n",
       "    <tr style=\"text-align: right;\">\n",
       "      <th></th>\n",
       "      <th>loss</th>\n",
       "      <th>val_loss</th>\n",
       "      <th>Epochs</th>\n",
       "    </tr>\n",
       "  </thead>\n",
       "  <tbody>\n",
       "    <tr>\n",
       "      <th>45</th>\n",
       "      <td>5217057.5</td>\n",
       "      <td>4915876.5</td>\n",
       "      <td>45</td>\n",
       "    </tr>\n",
       "    <tr>\n",
       "      <th>46</th>\n",
       "      <td>5557669.0</td>\n",
       "      <td>4950165.0</td>\n",
       "      <td>46</td>\n",
       "    </tr>\n",
       "    <tr>\n",
       "      <th>47</th>\n",
       "      <td>5205052.0</td>\n",
       "      <td>4828989.5</td>\n",
       "      <td>47</td>\n",
       "    </tr>\n",
       "    <tr>\n",
       "      <th>48</th>\n",
       "      <td>5005947.0</td>\n",
       "      <td>5947925.0</td>\n",
       "      <td>48</td>\n",
       "    </tr>\n",
       "    <tr>\n",
       "      <th>49</th>\n",
       "      <td>4993515.0</td>\n",
       "      <td>5024845.5</td>\n",
       "      <td>49</td>\n",
       "    </tr>\n",
       "  </tbody>\n",
       "</table>\n",
       "</div>"
      ],
      "text/plain": [
       "         loss   val_loss  Epochs\n",
       "45  5217057.5  4915876.5      45\n",
       "46  5557669.0  4950165.0      46\n",
       "47  5205052.0  4828989.5      47\n",
       "48  5005947.0  5947925.0      48\n",
       "49  4993515.0  5024845.5      49"
      ]
     },
     "execution_count": 18,
     "metadata": {},
     "output_type": "execute_result"
    }
   ],
   "source": [
    "r1 = pd.DataFrame(h1.history)\n",
    "r1['Epochs'] = h1.epoch\n",
    "r1.tail()"
   ]
  },
  {
   "cell_type": "code",
   "execution_count": 19,
   "metadata": {},
   "outputs": [
    {
     "data": {
      "image/png": "[encoded data removed]",
      "text/plain": [
       "<Figure size 432x288 with 1 Axes>"
      ]
     },
     "metadata": {
      "needs_background": "light"
     },
     "output_type": "display_data"
    }
   ],
   "source": [
    "plt.plot(r1['Epochs'],r1['loss'],label='Training loss')\n",
    "plt.plot(r1['Epochs'],r1['val_loss'],label='Testing loss')\n",
    "plt.xlabel('No of Iterations - Epochs')\n",
    "plt.ylabel('Loss')\n",
    "plt.title('Loss vs Epochs')\n",
    "plt.legend()\n",
    "plt.grid()\n",
    "plt.show()"
   ]
  },
  {
   "cell_type": "code",
   "execution_count": 20,
   "metadata": {},
   "outputs": [
    {
     "name": "stdout",
     "output_type": "stream",
     "text": [
      "12/12 [==============================] - 0s 3ms/step\n",
      "[[ 7392.434 ]\n",
      " [14166.011 ]\n",
      " [ 7101.8735]\n",
      " [ 8358.564 ]\n",
      " [ 7644.2363]\n",
      " [ 6219.231 ]\n",
      " [ 9170.216 ]\n",
      " [ 8842.549 ]\n",
      " [10376.719 ]\n",
      " [10803.66  ]\n",
      " [11021.868 ]\n",
      " [11524.793 ]\n",
      " [12006.934 ]\n",
      " [ 8748.941 ]\n",
      " [16750.086 ]\n",
      " [ 7242.813 ]\n",
      " [ 9165.594 ]\n",
      " [ 7101.5854]\n",
      " [16235.474 ]\n",
      " [ 5823.586 ]\n",
      " [13415.386 ]\n",
      " [ 8802.238 ]\n",
      " [ 8495.808 ]\n",
      " [ 9709.387 ]\n",
      " [ 8255.329 ]\n",
      " [ 9375.204 ]\n",
      " [13158.274 ]\n",
      " [ 8041.9893]\n",
      " [10269.725 ]\n",
      " [11902.006 ]\n",
      " [ 7873.895 ]\n",
      " [17120.455 ]\n",
      " [14318.957 ]\n",
      " [ 9911.624 ]\n",
      " [ 9869.621 ]\n",
      " [ 8375.92  ]\n",
      " [10378.15  ]\n",
      " [11145.952 ]\n",
      " [13504.247 ]\n",
      " [10882.353 ]\n",
      " [13863.473 ]\n",
      " [ 8191.6265]\n",
      " [ 8840.192 ]\n",
      " [11628.786 ]\n",
      " [12250.003 ]\n",
      " [ 9889.314 ]\n",
      " [ 9665.209 ]\n",
      " [ 9337.682 ]\n",
      " [ 9137.581 ]\n",
      " [ 6672.108 ]\n",
      " [10516.727 ]\n",
      " [12498.168 ]\n",
      " [ 7786.0933]\n",
      " [11886.462 ]\n",
      " [12243.908 ]\n",
      " [ 8883.177 ]\n",
      " [12638.984 ]\n",
      " [16639.236 ]\n",
      " [10661.821 ]\n",
      " [11684.514 ]\n",
      " [ 8443.613 ]\n",
      " [12548.159 ]\n",
      " [11042.16  ]\n",
      " [ 7411.4956]\n",
      " [13912.533 ]\n",
      " [ 8172.8413]\n",
      " [14557.59  ]\n",
      " [11612.113 ]\n",
      " [ 8034.476 ]\n",
      " [ 7369.173 ]\n",
      " [ 7065.1655]\n",
      " [ 9734.323 ]\n",
      " [ 9303.658 ]\n",
      " [11201.428 ]\n",
      " [ 9869.847 ]\n",
      " [12432.444 ]\n",
      " [ 7879.0127]\n",
      " [11400.719 ]\n",
      " [10544.102 ]\n",
      " [11767.771 ]\n",
      " [ 8479.377 ]\n",
      " [10779.307 ]\n",
      " [12578.406 ]\n",
      " [ 9935.924 ]\n",
      " [10158.666 ]\n",
      " [13376.746 ]\n",
      " [ 9699.305 ]\n",
      " [ 8516.514 ]\n",
      " [ 8857.133 ]\n",
      " [ 7783.326 ]\n",
      " [12989.958 ]\n",
      " [ 8818.762 ]\n",
      " [ 8015.8354]\n",
      " [13053.634 ]\n",
      " [ 6167.188 ]\n",
      " [ 8913.229 ]\n",
      " [22979.428 ]\n",
      " [ 9578.864 ]\n",
      " [ 7806.2173]\n",
      " [10344.083 ]\n",
      " [ 8918.14  ]\n",
      " [12942.336 ]\n",
      " [10761.025 ]\n",
      " [10330.629 ]\n",
      " [ 9546.097 ]\n",
      " [15068.99  ]\n",
      " [ 9551.509 ]\n",
      " [10103.207 ]\n",
      " [12592.466 ]\n",
      " [ 8129.736 ]\n",
      " [ 7507.0884]\n",
      " [22431.69  ]\n",
      " [ 6574.477 ]\n",
      " [ 8841.275 ]\n",
      " [12188.59  ]\n",
      " [ 6449.31  ]\n",
      " [ 7187.9297]\n",
      " [ 7580.9536]\n",
      " [ 9750.021 ]\n",
      " [ 7788.0903]\n",
      " [ 8269.859 ]\n",
      " [ 9638.771 ]\n",
      " [ 7574.685 ]\n",
      " [ 6976.5615]\n",
      " [ 9265.122 ]\n",
      " [10414.267 ]\n",
      " [ 9212.023 ]\n",
      " [12368.885 ]\n",
      " [11506.588 ]\n",
      " [19783.936 ]\n",
      " [ 8531.355 ]\n",
      " [ 9684.246 ]\n",
      " [ 8566.337 ]\n",
      " [ 9525.494 ]\n",
      " [ 5982.45  ]\n",
      " [ 9470.875 ]\n",
      " [10006.682 ]\n",
      " [ 9796.025 ]\n",
      " [ 6941.7925]\n",
      " [ 9992.077 ]\n",
      " [10045.806 ]\n",
      " [12333.659 ]\n",
      " [10073.527 ]\n",
      " [ 9055.069 ]\n",
      " [ 9613.867 ]\n",
      " [10453.218 ]\n",
      " [ 8528.373 ]\n",
      " [ 7735.088 ]\n",
      " [ 7130.595 ]\n",
      " [ 8568.434 ]\n",
      " [ 9954.502 ]\n",
      " [ 8138.151 ]\n",
      " [ 6848.064 ]\n",
      " [19651.727 ]\n",
      " [ 9721.865 ]\n",
      " [10782.0205]\n",
      " [ 8100.213 ]\n",
      " [11082.016 ]\n",
      " [12894.628 ]\n",
      " [ 9347.541 ]\n",
      " [13902.168 ]\n",
      " [ 9245.452 ]\n",
      " [15149.919 ]\n",
      " [11851.839 ]\n",
      " [ 9927.622 ]\n",
      " [10392.381 ]\n",
      " [ 9610.124 ]\n",
      " [10368.855 ]\n",
      " [ 7422.4893]\n",
      " [ 6937.732 ]\n",
      " [13493.982 ]\n",
      " [ 6257.2524]\n",
      " [ 8876.294 ]\n",
      " [ 6246.824 ]\n",
      " [11938.92  ]\n",
      " [ 6559.296 ]\n",
      " [ 8865.341 ]\n",
      " [12005.883 ]\n",
      " [12696.734 ]\n",
      " [11334.156 ]\n",
      " [ 9420.966 ]\n",
      " [13950.5625]\n",
      " [ 9597.075 ]\n",
      " [18688.373 ]\n",
      " [ 7968.9575]\n",
      " [10927.101 ]\n",
      " [ 8854.867 ]\n",
      " [ 9626.409 ]\n",
      " [ 7698.8433]\n",
      " [ 8610.666 ]\n",
      " [10169.361 ]\n",
      " [ 6547.1577]\n",
      " [ 7132.0566]\n",
      " [ 9574.672 ]\n",
      " [19277.076 ]\n",
      " [10567.176 ]\n",
      " [14870.493 ]\n",
      " [14936.547 ]\n",
      " [10743.686 ]\n",
      " [ 9099.698 ]\n",
      " [10952.326 ]\n",
      " [10059.715 ]\n",
      " [10408.617 ]\n",
      " [ 9497.508 ]\n",
      " [ 8498.991 ]\n",
      " [17917.275 ]\n",
      " [ 6031.1235]\n",
      " [10814.807 ]\n",
      " [15128.426 ]\n",
      " [10020.531 ]\n",
      " [ 6390.0483]\n",
      " [11251.91  ]\n",
      " [13396.079 ]\n",
      " [10334.364 ]\n",
      " [13600.398 ]\n",
      " [12790.089 ]\n",
      " [ 7275.441 ]\n",
      " [16792.996 ]\n",
      " [ 8608.7705]\n",
      " [10791.713 ]\n",
      " [ 7988.2134]\n",
      " [12280.344 ]\n",
      " [16300.49  ]\n",
      " [12278.27  ]\n",
      " [ 6810.4272]\n",
      " [15085.033 ]\n",
      " [ 9703.954 ]\n",
      " [ 8590.949 ]\n",
      " [12269.777 ]\n",
      " [13405.257 ]\n",
      " [14647.285 ]\n",
      " [ 8059.343 ]\n",
      " [11687.23  ]\n",
      " [10412.766 ]\n",
      " [11060.633 ]\n",
      " [11970.937 ]\n",
      " [18470.787 ]\n",
      " [10130.228 ]\n",
      " [10121.572 ]\n",
      " [10894.05  ]\n",
      " [17676.86  ]\n",
      " [ 8253.148 ]\n",
      " [ 9159.172 ]\n",
      " [10381.916 ]\n",
      " [11952.682 ]\n",
      " [14007.996 ]\n",
      " [ 9682.588 ]\n",
      " [14353.389 ]\n",
      " [11964.335 ]\n",
      " [12415.014 ]\n",
      " [22610.682 ]\n",
      " [ 8997.536 ]\n",
      " [12168.739 ]\n",
      " [ 7836.732 ]\n",
      " [ 9492.915 ]\n",
      " [13262.553 ]\n",
      " [ 8775.158 ]\n",
      " [ 8418.152 ]\n",
      " [ 9357.801 ]\n",
      " [18499.078 ]\n",
      " [ 9026.645 ]\n",
      " [ 9559.48  ]\n",
      " [10041.668 ]\n",
      " [10414.905 ]\n",
      " [ 8420.711 ]\n",
      " [10620.012 ]\n",
      " [10803.741 ]\n",
      " [15989.406 ]\n",
      " [ 8552.58  ]\n",
      " [ 9051.217 ]\n",
      " [ 9002.261 ]\n",
      " [ 9831.25  ]\n",
      " [12017.038 ]\n",
      " [ 7912.3833]\n",
      " [ 7981.495 ]\n",
      " [ 8641.772 ]\n",
      " [10254.396 ]\n",
      " [14181.391 ]\n",
      " [14394.752 ]\n",
      " [10534.389 ]\n",
      " [10489.683 ]\n",
      " [13010.215 ]\n",
      " [ 8707.199 ]\n",
      " [ 9948.771 ]\n",
      " [ 9644.664 ]\n",
      " [10928.98  ]\n",
      " [10588.795 ]\n",
      " [18290.89  ]\n",
      " [ 7357.6274]\n",
      " [15561.566 ]\n",
      " [ 8376.453 ]\n",
      " [ 7979.908 ]\n",
      " [ 8583.547 ]\n",
      " [ 5982.884 ]\n",
      " [ 8224.328 ]\n",
      " [ 8701.851 ]\n",
      " [ 9340.271 ]\n",
      " [ 7654.5405]\n",
      " [ 7767.2046]\n",
      " [11472.162 ]\n",
      " [11308.468 ]\n",
      " [ 7222.3335]\n",
      " [ 9642.968 ]\n",
      " [ 9258.065 ]\n",
      " [ 9111.716 ]\n",
      " [ 8341.461 ]\n",
      " [10442.385 ]\n",
      " [ 8273.07  ]\n",
      " [10611.595 ]\n",
      " [11404.309 ]\n",
      " [ 8443.201 ]\n",
      " [11309.375 ]\n",
      " [ 9774.777 ]\n",
      " [ 8227.818 ]\n",
      " [ 9002.926 ]\n",
      " [15963.331 ]\n",
      " [ 8520.86  ]\n",
      " [10919.62  ]\n",
      " [ 7923.768 ]\n",
      " [ 8421.919 ]\n",
      " [ 8951.18  ]\n",
      " [10319.498 ]\n",
      " [17567.2   ]\n",
      " [15540.881 ]\n",
      " [ 9903.541 ]\n",
      " [11712.615 ]\n",
      " [18891.598 ]\n",
      " [ 7153.3306]\n",
      " [11079.87  ]\n",
      " [13722.002 ]\n",
      " [ 8368.571 ]\n",
      " [12470.494 ]\n",
      " [10270.416 ]\n",
      " [ 9206.542 ]\n",
      " [ 8655.734 ]\n",
      " [15003.832 ]\n",
      " [ 8990.89  ]\n",
      " [13075.537 ]\n",
      " [ 9026.91  ]\n",
      " [ 9843.321 ]\n",
      " [ 8525.695 ]\n",
      " [ 8708.556 ]\n",
      " [ 9373.217 ]\n",
      " [10354.542 ]\n",
      " [ 7742.1245]\n",
      " [ 9168.261 ]\n",
      " [11068.182 ]\n",
      " [ 6851.0825]\n",
      " [ 7255.2827]\n",
      " [11165.289 ]\n",
      " [ 8311.723 ]\n",
      " [ 7682.189 ]\n",
      " [19020.879 ]\n",
      " [10864.165 ]\n",
      " [11413.62  ]\n",
      " [ 9615.133 ]\n",
      " [ 9274.633 ]\n",
      " [13725.844 ]\n",
      " [11180.907 ]]\n"
     ]
    }
   ],
   "source": [
    "ypred_m1 = m1.predict(x_test)\n",
    "print(ypred_m1)"
   ]
  },
  {
   "cell_type": "code",
   "execution_count": 21,
   "metadata": {},
   "outputs": [
    {
     "name": "stdout",
     "output_type": "stream",
     "text": [
      "(359,)\n",
      "(359, 1)\n"
     ]
    }
   ],
   "source": [
    "print(y_test.shape)\n",
    "print(ypred_m1.shape)"
   ]
  },
  {
   "cell_type": "code",
   "execution_count": 22,
   "metadata": {},
   "outputs": [
    {
     "data": {
      "text/html": [
       "<div>\n",
       "<style scoped>\n",
       "    .dataframe tbody tr th:only-of-type {\n",
       "        vertical-align: middle;\n",
       "    }\n",
       "\n",
       "    .dataframe tbody tr th {\n",
       "        vertical-align: top;\n",
       "    }\n",
       "\n",
       "    .dataframe thead th {\n",
       "        text-align: right;\n",
       "    }\n",
       "</style>\n",
       "<table border=\"1\" class=\"dataframe\">\n",
       "  <thead>\n",
       "    <tr style=\"text-align: right;\">\n",
       "      <th></th>\n",
       "      <th>y_test</th>\n",
       "      <th>y_pred</th>\n",
       "    </tr>\n",
       "  </thead>\n",
       "  <tbody>\n",
       "    <tr>\n",
       "      <th>632</th>\n",
       "      <td>9450</td>\n",
       "      <td>[7392.434]</td>\n",
       "    </tr>\n",
       "    <tr>\n",
       "      <th>99</th>\n",
       "      <td>17450</td>\n",
       "      <td>[14166.011]</td>\n",
       "    </tr>\n",
       "    <tr>\n",
       "      <th>1090</th>\n",
       "      <td>8250</td>\n",
       "      <td>[7101.8735]</td>\n",
       "    </tr>\n",
       "    <tr>\n",
       "      <th>1165</th>\n",
       "      <td>7950</td>\n",
       "      <td>[8358.564]</td>\n",
       "    </tr>\n",
       "    <tr>\n",
       "      <th>642</th>\n",
       "      <td>10950</td>\n",
       "      <td>[7644.2363]</td>\n",
       "    </tr>\n",
       "  </tbody>\n",
       "</table>\n",
       "</div>"
      ],
      "text/plain": [
       "      y_test       y_pred\n",
       "632     9450   [7392.434]\n",
       "99     17450  [14166.011]\n",
       "1090    8250  [7101.8735]\n",
       "1165    7950   [8358.564]\n",
       "642    10950  [7644.2363]"
      ]
     },
     "execution_count": 22,
     "metadata": {},
     "output_type": "execute_result"
    }
   ],
   "source": [
    "res1 = pd.DataFrame({'y_test':y_test,'y_pred':[*ypred_m1]})\n",
    "res1.head()\n"
   ]
  },
  {
   "cell_type": "code",
   "execution_count": 23,
   "metadata": {},
   "outputs": [],
   "source": [
    "from sklearn.metrics import mean_squared_error,mean_absolute_error"
   ]
  },
  {
   "cell_type": "code",
   "execution_count": 24,
   "metadata": {},
   "outputs": [
    {
     "name": "stdout",
     "output_type": "stream",
     "text": [
      "MSE 5024846.10394046\n",
      "RMSE 2241.6168503873405\n",
      "MAE 1662.9749942875173\n"
     ]
    }
   ],
   "source": [
    "mse = mean_squared_error(y_test,ypred_m1)\n",
    "rmse = np.sqrt(mean_squared_error(y_test,ypred_m1)) \n",
    "mae = mean_absolute_error(y_test,ypred_m1)\n",
    "print('MSE',mse)  # 5166799.5\n",
    "print('RMSE',rmse)\n",
    "print('MAE',mae)"
   ]
  },
  {
   "cell_type": "markdown",
   "metadata": {},
   "source": [
    "### EarlyStopping Callbacks"
   ]
  },
  {
   "cell_type": "code",
   "execution_count": 25,
   "metadata": {},
   "outputs": [],
   "source": [
    "from tensorflow.python.keras.callbacks import EarlyStopping"
   ]
  },
  {
   "cell_type": "code",
   "execution_count": 26,
   "metadata": {},
   "outputs": [],
   "source": [
    "es = EarlyStopping(monitor='val_loss',patience=5)"
   ]
  },
  {
   "cell_type": "code",
   "execution_count": 27,
   "metadata": {},
   "outputs": [],
   "source": [
    "m2 = Sequential()                                  # Input layer has 7 neruons\n",
    "m2.add(Dense(21,activation='relu',input_dim=7))    # H1 - has 21 neurons\n",
    "m2.add(Dense(14,activation='relu'))                # H2 - has 14 neurons\n",
    "m2.add(Dense(7,activation='relu'))                 # H3 - has 7 neurons\n",
    "m2.add(Dense(1))                                   # Output layer has 1 neuron - linear activation function is used \n",
    "\n",
    "m2.compile(optimizer='adam',loss='mse')"
   ]
  },
  {
   "cell_type": "code",
   "execution_count": 28,
   "metadata": {},
   "outputs": [
    {
     "name": "stdout",
     "output_type": "stream",
     "text": [
      "Epoch 1/50\n",
      "34/34 [==============================] - 1s 12ms/step - loss: 57312924.0000 - val_loss: 57167256.0000\n",
      "Epoch 2/50\n",
      "34/34 [==============================] - 0s 4ms/step - loss: 55720564.0000 - val_loss: 57671564.0000\n",
      "Epoch 3/50\n",
      "34/34 [==============================] - 0s 10ms/step - loss: 54841880.0000 - val_loss: 55077156.0000\n",
      "Epoch 4/50\n",
      "34/34 [==============================] - 0s 7ms/step - loss: 52031136.0000 - val_loss: 49203896.0000\n",
      "Epoch 5/50\n",
      "34/34 [==============================] - 0s 5ms/step - loss: 46828080.0000 - val_loss: 46583704.0000\n",
      "Epoch 6/50\n",
      "34/34 [==============================] - 0s 6ms/step - loss: 39218164.0000 - val_loss: 32581182.0000\n",
      "Epoch 7/50\n",
      "34/34 [==============================] - 0s 5ms/step - loss: 26403340.0000 - val_loss: 19927672.0000\n",
      "Epoch 8/50\n",
      "34/34 [==============================] - 0s 6ms/step - loss: 15672015.0000 - val_loss: 10693663.0000\n",
      "Epoch 9/50\n",
      "34/34 [==============================] - 0s 10ms/step - loss: 9555548.0000 - val_loss: 6950564.5000\n",
      "Epoch 10/50\n",
      "34/34 [==============================] - 0s 6ms/step - loss: 7546486.0000 - val_loss: 6360643.0000\n",
      "Epoch 11/50\n",
      "34/34 [==============================] - 0s 6ms/step - loss: 6836603.0000 - val_loss: 5769949.0000\n",
      "Epoch 12/50\n",
      "34/34 [==============================] - 0s 4ms/step - loss: 6176443.0000 - val_loss: 5510382.0000\n",
      "Epoch 13/50\n",
      "34/34 [==============================] - 0s 4ms/step - loss: 5873952.0000 - val_loss: 5616610.5000\n",
      "Epoch 14/50\n",
      "34/34 [==============================] - 0s 5ms/step - loss: 5584564.5000 - val_loss: 5913593.5000\n",
      "Epoch 15/50\n",
      "34/34 [==============================] - 0s 4ms/step - loss: 5423642.0000 - val_loss: 5229751.5000\n",
      "Epoch 16/50\n",
      "34/34 [==============================] - 0s 4ms/step - loss: 5909249.5000 - val_loss: 5233028.5000\n",
      "Epoch 17/50\n",
      "34/34 [==============================] - 0s 4ms/step - loss: 5329351.0000 - val_loss: 5263262.5000\n",
      "Epoch 18/50\n",
      "34/34 [==============================] - 0s 4ms/step - loss: 5230749.5000 - val_loss: 5485671.5000\n",
      "Epoch 19/50\n",
      "34/34 [==============================] - 0s 4ms/step - loss: 5196422.0000 - val_loss: 5967388.0000\n",
      "Epoch 20/50\n",
      "34/34 [==============================] - 0s 4ms/step - loss: 5685492.0000 - val_loss: 5311544.0000\n"
     ]
    }
   ],
   "source": [
    "h2 = m2.fit(x_train,y_train,validation_data=(x_test,y_test),epochs=50,callbacks=[es])"
   ]
  },
  {
   "cell_type": "code",
   "execution_count": 29,
   "metadata": {},
   "outputs": [
    {
     "data": {
      "text/html": [
       "<div>\n",
       "<style scoped>\n",
       "    .dataframe tbody tr th:only-of-type {\n",
       "        vertical-align: middle;\n",
       "    }\n",
       "\n",
       "    .dataframe tbody tr th {\n",
       "        vertical-align: top;\n",
       "    }\n",
       "\n",
       "    .dataframe thead th {\n",
       "        text-align: right;\n",
       "    }\n",
       "</style>\n",
       "<table border=\"1\" class=\"dataframe\">\n",
       "  <thead>\n",
       "    <tr style=\"text-align: right;\">\n",
       "      <th></th>\n",
       "      <th>loss</th>\n",
       "      <th>val_loss</th>\n",
       "      <th>Epochs</th>\n",
       "    </tr>\n",
       "  </thead>\n",
       "  <tbody>\n",
       "    <tr>\n",
       "      <th>13</th>\n",
       "      <td>5584564.5</td>\n",
       "      <td>5913593.5</td>\n",
       "      <td>13</td>\n",
       "    </tr>\n",
       "    <tr>\n",
       "      <th>14</th>\n",
       "      <td>5423642.0</td>\n",
       "      <td>5229751.5</td>\n",
       "      <td>14</td>\n",
       "    </tr>\n",
       "    <tr>\n",
       "      <th>15</th>\n",
       "      <td>5909249.5</td>\n",
       "      <td>5233028.5</td>\n",
       "      <td>15</td>\n",
       "    </tr>\n",
       "    <tr>\n",
       "      <th>16</th>\n",
       "      <td>5329351.0</td>\n",
       "      <td>5263262.5</td>\n",
       "      <td>16</td>\n",
       "    </tr>\n",
       "    <tr>\n",
       "      <th>17</th>\n",
       "      <td>5230749.5</td>\n",
       "      <td>5485671.5</td>\n",
       "      <td>17</td>\n",
       "    </tr>\n",
       "    <tr>\n",
       "      <th>18</th>\n",
       "      <td>5196422.0</td>\n",
       "      <td>5967388.0</td>\n",
       "      <td>18</td>\n",
       "    </tr>\n",
       "    <tr>\n",
       "      <th>19</th>\n",
       "      <td>5685492.0</td>\n",
       "      <td>5311544.0</td>\n",
       "      <td>19</td>\n",
       "    </tr>\n",
       "  </tbody>\n",
       "</table>\n",
       "</div>"
      ],
      "text/plain": [
       "         loss   val_loss  Epochs\n",
       "13  5584564.5  5913593.5      13\n",
       "14  5423642.0  5229751.5      14\n",
       "15  5909249.5  5233028.5      15\n",
       "16  5329351.0  5263262.5      16\n",
       "17  5230749.5  5485671.5      17\n",
       "18  5196422.0  5967388.0      18\n",
       "19  5685492.0  5311544.0      19"
      ]
     },
     "execution_count": 29,
     "metadata": {},
     "output_type": "execute_result"
    }
   ],
   "source": [
    "r2 = pd.DataFrame(h2.history)\n",
    "r2['Epochs'] = h2.epoch\n",
    "r2.tail(7)"
   ]
  },
  {
   "cell_type": "code",
   "execution_count": 30,
   "metadata": {},
   "outputs": [
    {
     "data": {
      "image/png": "[encoded data removed]",
      "text/plain": [
       "<Figure size 432x288 with 1 Axes>"
      ]
     },
     "metadata": {
      "needs_background": "light"
     },
     "output_type": "display_data"
    }
   ],
   "source": [
    "plt.plot(r2['Epochs'],r2['loss'],label='Training loss')\n",
    "plt.plot(r2['Epochs'],r2['val_loss'],label='Testing loss')\n",
    "plt.xlabel('No of Iterations - Epochs')\n",
    "plt.ylabel('Loss')\n",
    "plt.title('Loss vs Epochs')\n",
    "plt.legend()\n",
    "plt.grid()\n",
    "plt.show()"
   ]
  }
 ],
 "metadata": {
  "kernelspec": {
   "display_name": "Python 3.10.2 64-bit",
   "language": "python",
   "name": "python3"
  },
  "language_info": {
   "codemirror_mode": {
    "name": "ipython",
    "version": 3
   },
   "file_extension": ".py",
   "mimetype": "text/x-python",
   "name": "python",
   "nbconvert_exporter": "python",
   "pygments_lexer": "ipython3",
   "version": "3.10.2"
  },
  "orig_nbformat": 4,
  "vscode": {
   "interpreter": {
    "hash": "26de051ba29f2982a8de78e945f0abaf191376122a1563185a90213a26c5da77"
   }
  }
 },
 "nbformat": 4,
 "nbformat_minor": 2
}
