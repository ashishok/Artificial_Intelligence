{
 "cells": [
  {
   "cell_type": "code",
   "execution_count": 1,
   "metadata": {},
   "outputs": [],
   "source": [
    "import numpy as np\n",
    "import pandas as pd\n",
    "import matplotlib.pyplot as plt "
   ]
  },
  {
   "cell_type": "code",
   "execution_count": 2,
   "metadata": {},
   "outputs": [],
   "source": [
    "import tensorflow as tf"
   ]
  },
  {
   "cell_type": "code",
   "execution_count": 3,
   "metadata": {},
   "outputs": [
    {
     "name": "stdout",
     "output_type": "stream",
     "text": [
      "2.9.1\n"
     ]
    }
   ],
   "source": [
    "print(tf.__version__)"
   ]
  },
  {
   "cell_type": "markdown",
   "metadata": {},
   "source": [
    "TF Basics\n",
    "1) Tensors are like numpy array  \n",
    "2) Tensors are multi-dimensional arrays with uniform data type(referred to as dtype)\n",
    "3) All tensors are immutable like Python numbers and strings. They cant be updated"
   ]
  },
  {
   "cell_type": "code",
   "execution_count": 4,
   "metadata": {},
   "outputs": [
    {
     "name": "stdout",
     "output_type": "stream",
     "text": [
      "tf.Tensor(76, shape=(), dtype=int32)\n",
      "76\n",
      "<dtype: 'int32'>\n",
      "0\n",
      "()\n"
     ]
    }
   ],
   "source": [
    "r0t = tf.constant(76)\n",
    "print(r0t)\n",
    "print(r0t.numpy())\n",
    "print(r0t.dtype)\n",
    "print(r0t.ndim)\n",
    "print(r0t.shape)"
   ]
  },
  {
   "cell_type": "code",
   "execution_count": 5,
   "metadata": {},
   "outputs": [
    {
     "name": "stdout",
     "output_type": "stream",
     "text": [
      "tf.Tensor([1 2 3 4 5 6 7], shape=(7,), dtype=int32)\n",
      "[1 2 3 4 5 6 7]\n",
      "<dtype: 'int32'>\n",
      "1\n",
      "(7,)\n"
     ]
    }
   ],
   "source": [
    "r1t = tf.constant([1,2,3,4,5,6,7])\n",
    "print(r1t)\n",
    "print(r1t.numpy())\n",
    "print(r1t.dtype)\n",
    "print(r1t.ndim)\n",
    "print(r1t.shape)"
   ]
  },
  {
   "cell_type": "code",
   "execution_count": 6,
   "metadata": {},
   "outputs": [
    {
     "name": "stdout",
     "output_type": "stream",
     "text": [
      "tf.Tensor(\n",
      "[[ 1  2  3]\n",
      " [ 4 55  6]], shape=(2, 3), dtype=int32)\n",
      "[[ 1  2  3]\n",
      " [ 4 55  6]]\n",
      "<dtype: 'int32'>\n",
      "2\n",
      "(2, 3)\n"
     ]
    }
   ],
   "source": [
    "r2t = tf.constant([[1,2,3],[4,55,6]])\n",
    "print(r2t)\n",
    "print(r2t.numpy())\n",
    "print(r2t.dtype)\n",
    "print(r2t.ndim)\n",
    "print(r2t.shape)"
   ]
  },
  {
   "cell_type": "code",
   "execution_count": 7,
   "metadata": {},
   "outputs": [
    {
     "name": "stdout",
     "output_type": "stream",
     "text": [
      "tf.Tensor(\n",
      "[[[ 1  2  3]\n",
      "  [ 4  5  6]]\n",
      "\n",
      " [[ 7  8  9]\n",
      "  [10 11 12]]], shape=(2, 2, 3), dtype=int32)\n",
      "[[[ 1  2  3]\n",
      "  [ 4  5  6]]\n",
      "\n",
      " [[ 7  8  9]\n",
      "  [10 11 12]]]\n",
      "<dtype: 'int32'>\n",
      "3\n",
      "(2, 2, 3)\n"
     ]
    }
   ],
   "source": [
    "r3t = tf.constant([[[1,2,3],[4,5,6]],[[7,8,9],[10,11,12]]])\n",
    "print(r3t)\n",
    "print(r3t.numpy())\n",
    "print(r3t.dtype)\n",
    "print(r3t.ndim)\n",
    "print(r3t.shape)"
   ]
  },
  {
   "cell_type": "markdown",
   "metadata": {},
   "source": [
    "#### Tensors are Immutable"
   ]
  },
  {
   "cell_type": "code",
   "execution_count": 12,
   "metadata": {},
   "outputs": [
    {
     "name": "stdout",
     "output_type": "stream",
     "text": [
      "[3 4 5 6 7 8]\n",
      "3\n"
     ]
    },
    {
     "ename": "TypeError",
     "evalue": "'tensorflow.python.framework.ops.EagerTensor' object does not support item assignment",
     "output_type": "error",
     "traceback": [
      "\u001b[1;31m---------------------------------------------------------------------------\u001b[0m",
      "\u001b[1;31mTypeError\u001b[0m                                 Traceback (most recent call last)",
      "\u001b[1;32me:\\Projects\\AI_Smartknower\\Tensorflow_basics.ipynb Cell 10\u001b[0m in \u001b[0;36m<cell line: 4>\u001b[1;34m()\u001b[0m\n\u001b[0;32m      <a href='vscode-notebook-cell:/e%3A/Projects/AI_Smartknower/Tensorflow_basics.ipynb#X12sZmlsZQ%3D%3D?line=1'>2</a>\u001b[0m \u001b[39mprint\u001b[39m(w1\u001b[39m.\u001b[39mnumpy())\n\u001b[0;32m      <a href='vscode-notebook-cell:/e%3A/Projects/AI_Smartknower/Tensorflow_basics.ipynb#X12sZmlsZQ%3D%3D?line=2'>3</a>\u001b[0m \u001b[39mprint\u001b[39m(w1[\u001b[39m0\u001b[39m]\u001b[39m.\u001b[39mnumpy())\n\u001b[1;32m----> <a href='vscode-notebook-cell:/e%3A/Projects/AI_Smartknower/Tensorflow_basics.ipynb#X12sZmlsZQ%3D%3D?line=3'>4</a>\u001b[0m w1[\u001b[39m0\u001b[39m] \u001b[39m=\u001b[39m \u001b[39m50\u001b[39m\n\u001b[0;32m      <a href='vscode-notebook-cell:/e%3A/Projects/AI_Smartknower/Tensorflow_basics.ipynb#X12sZmlsZQ%3D%3D?line=4'>5</a>\u001b[0m \u001b[39mprint\u001b[39m(w1)\n",
      "\u001b[1;31mTypeError\u001b[0m: 'tensorflow.python.framework.ops.EagerTensor' object does not support item assignment"
     ]
    }
   ],
   "source": [
    "w1 = tf.constant([3,4,5,6,7,8])\n",
    "print(w1.numpy())\n",
    "print(w1[0].numpy())\n",
    "w1[0] = 50\n",
    "print(w1)"
   ]
  },
  {
   "cell_type": "markdown",
   "metadata": {},
   "source": [
    "#### Tensors Operations"
   ]
  },
  {
   "cell_type": "code",
   "execution_count": null,
   "metadata": {},
   "outputs": [
    {
     "name": "stdout",
     "output_type": "stream",
     "text": [
      "[[1 2]\n",
      " [3 4]]\n",
      "[[ 7 10]\n",
      " [ 6 20]]\n"
     ]
    }
   ],
   "source": [
    "a1 = tf.constant([[1,2],[3,4]])\n",
    "a2 = tf.constant([[7,10],[6,20]])\n",
    "print(a1.numpy())\n",
    "print(a2.numpy())"
   ]
  },
  {
   "cell_type": "code",
   "execution_count": null,
   "metadata": {},
   "outputs": [
    {
     "name": "stdout",
     "output_type": "stream",
     "text": [
      "[[ 8 12]\n",
      " [ 9 24]]\n",
      "[[ 6  8]\n",
      " [ 3 16]]\n",
      "[[ 7 20]\n",
      " [18 80]]\n",
      "[[7. 5.]\n",
      " [2. 5.]]\n"
     ]
    }
   ],
   "source": [
    "print(tf.add(a1,a2).numpy())\n",
    "print(tf.subtract(a2,a1).numpy())\n",
    "print(tf.multiply(a1,a2).numpy()) # element wise multiplication\n",
    "print(tf.divide(a2,a1).numpy())"
   ]
  },
  {
   "cell_type": "code",
   "execution_count": null,
   "metadata": {},
   "outputs": [
    {
     "name": "stdout",
     "output_type": "stream",
     "text": [
      "tf.Tensor(\n",
      "[[ 8 12]\n",
      " [ 9 24]], shape=(2, 2), dtype=int32)\n",
      "tf.Tensor(\n",
      "[[ 6  8]\n",
      " [ 3 16]], shape=(2, 2), dtype=int32)\n",
      "tf.Tensor(\n",
      "[[ 7 20]\n",
      " [18 80]], shape=(2, 2), dtype=int32)\n",
      "tf.Tensor(\n",
      "[[7. 5.]\n",
      " [2. 5.]], shape=(2, 2), dtype=float64)\n"
     ]
    }
   ],
   "source": [
    "print(a1+a2)\n",
    "print(a2-a1)\n",
    "print(a1*a2)\n",
    "print(a2/a1)"
   ]
  },
  {
   "cell_type": "markdown",
   "metadata": {},
   "source": [
    "Architecture for Neural Network"
   ]
  },
  {
   "cell_type": "code",
   "execution_count": 10,
   "metadata": {},
   "outputs": [],
   "source": [
    "# from tensorflow.keras.models import Sequential\n",
    "# from tensorflow.keras.layers import Dense\n",
    "\n",
    "\n",
    "# from tensorflow._api.v1.keras import Sequential\n",
    "# from tensorflow._api.v1.keras.layers import Dense\n",
    "\n",
    "from tensorflow.python.keras import Sequential\n",
    "from tensorflow.python.keras.layers import Dense\n",
    "# sequential is for binding the layers of neurons\n",
    "#"
   ]
  },
  {
   "cell_type": "markdown",
   "metadata": {},
   "source": [
    "ANN Model for Regression\n",
    "1) Activation function used in hidden layer - relu, leakyrelu\n",
    "2) Activation function used in output layer - linear\n",
    "3) Optimizer - adam, rmsprop, sgd\n",
    "4) Loss Function - mse, mae"
   ]
  },
  {
   "cell_type": "code",
   "execution_count": null,
   "metadata": {},
   "outputs": [],
   "source": [
    "# Suppose shape of x(independent feature) = (200,8)\n",
    "# Rows = 200, Columns = 8"
   ]
  },
  {
   "cell_type": "code",
   "execution_count": null,
   "metadata": {},
   "outputs": [],
   "source": [
    "m1 = Sequential()                                 # Input layer has 8 neurons\n",
    "m1.add(Dense(32,activation='relu',input_dim=8))   # hidden layer 1 # H1 has 32 neurons\n",
    "m1.add(Dense(16,activation='relu'))               # H2 has 16 neurons\n",
    "m1.add(Dense(8,activation='relu'))                # H3 has 8 neurons\n",
    "m1.add(Dense(1))                                  # Output layer has 1 neuron, activation='linear'\n",
    "\n",
    "m1.compile(optimizer='adam',loss='mse')"
   ]
  },
  {
   "cell_type": "code",
   "execution_count": null,
   "metadata": {},
   "outputs": [
    {
     "name": "stdout",
     "output_type": "stream",
     "text": [
      "288\n",
      "528\n"
     ]
    }
   ],
   "source": [
    "print(32*8 + 32)   # 32*8 is weights and 32 is Bias\n",
    "print(16*32 + 16)"
   ]
  },
  {
   "cell_type": "code",
   "execution_count": null,
   "metadata": {},
   "outputs": [
    {
     "name": "stdout",
     "output_type": "stream",
     "text": [
      "Model: \"sequential\"\n",
      "_________________________________________________________________\n",
      " Layer (type)                Output Shape              Param #   \n",
      "=================================================================\n",
      " dense (Dense)               (None, 32)                288       \n",
      "                                                                 \n",
      " dense_1 (Dense)             (None, 16)                528       \n",
      "                                                                 \n",
      " dense_2 (Dense)             (None, 8)                 136       \n",
      "                                                                 \n",
      " dense_3 (Dense)             (None, 1)                 9         \n",
      "                                                                 \n",
      "=================================================================\n",
      "Total params: 961\n",
      "Trainable params: 961\n",
      "Non-trainable params: 0\n",
      "_________________________________________________________________\n"
     ]
    }
   ],
   "source": [
    "m1.summary()\n",
    "# Input = 8, H1=32,H2=16, H3 =8,Output=1\n",
    "#             Weights     Bias\n",
    "# dense=>      32*8    +  32    = 288\n",
    "# dense_1 =>   16*32   +  16    = 528\n",
    "# dense_2 =>   8*16    +   8    = 136\n",
    "# dense_3 =>   1*8     +   1    = 9"
   ]
  },
  {
   "cell_type": "markdown",
   "metadata": {},
   "source": [
    "ANN Model for Binary Classification\n",
    "1) Activation function used in hidden layer - relu, leakyrelu\n",
    "2) Activation function used in output layer - sigmoid\n",
    "3) Optimizer - adam, rmsprop, sgd\n",
    "4) Loss Function - binary_crossentropy"
   ]
  },
  {
   "cell_type": "code",
   "execution_count": null,
   "metadata": {},
   "outputs": [],
   "source": [
    "m2 = Sequential()                                 # Input layer has 8 neurons\n",
    "m2.add(Dense(32,activation='relu',input_dim=8))   # H1 has 32 neurons\n",
    "m2.add(Dense(16,activation='relu'))               # H2 has 16 neurons\n",
    "m2.add(Dense(8,activation='relu'))                # H3 has 8 neurons\n",
    "m2.add(Dense(1,activation='sigmoid'))             # Output layer has 1 neuron, activation='linear'\n",
    "\n",
    "m2.compile(optimizer='adam',loss='binary_crossnetorpy')"
   ]
  },
  {
   "cell_type": "code",
   "execution_count": null,
   "metadata": {},
   "outputs": [
    {
     "name": "stdout",
     "output_type": "stream",
     "text": [
      "Model: \"sequential_1\"\n",
      "_________________________________________________________________\n",
      " Layer (type)                Output Shape              Param #   \n",
      "=================================================================\n",
      " dense_4 (Dense)             (None, 32)                288       \n",
      "                                                                 \n",
      " dense_5 (Dense)             (None, 16)                528       \n",
      "                                                                 \n",
      " dense_6 (Dense)             (None, 8)                 136       \n",
      "                                                                 \n",
      " dense_7 (Dense)             (None, 1)                 9         \n",
      "                                                                 \n",
      "=================================================================\n",
      "Total params: 961\n",
      "Trainable params: 961\n",
      "Non-trainable params: 0\n",
      "_________________________________________________________________\n"
     ]
    }
   ],
   "source": [
    "m2.summary()"
   ]
  },
  {
   "cell_type": "code",
   "execution_count": null,
   "metadata": {},
   "outputs": [],
   "source": []
  }
 ],
 "metadata": {
  "kernelspec": {
   "display_name": "Python 3.10.2 64-bit",
   "language": "python",
   "name": "python3"
  },
  "language_info": {
   "codemirror_mode": {
    "name": "ipython",
    "version": 3
   },
   "file_extension": ".py",
   "mimetype": "text/x-python",
   "name": "python",
   "nbconvert_exporter": "python",
   "pygments_lexer": "ipython3",
   "version": "3.10.2"
  },
  "orig_nbformat": 4,
  "vscode": {
   "interpreter": {
    "hash": "26de051ba29f2982a8de78e945f0abaf191376122a1563185a90213a26c5da77"
   }
  }
 },
 "nbformat": 4,
 "nbformat_minor": 2
}
