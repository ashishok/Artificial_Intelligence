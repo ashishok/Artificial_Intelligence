{
 "cells": [
  {
   "cell_type": "code",
   "execution_count": 81,
   "metadata": {},
   "outputs": [],
   "source": [
    "import pandas as pd\n",
    "import numpy as np\n",
    "import matplotlib.pyplot as plt"
   ]
  },
  {
   "cell_type": "markdown",
   "metadata": {},
   "source": [
    "#### DataFrame vs Series\n",
    "\n",
    "## Dataframes and series are used in data preprocessing \n",
    "<b>1) DataFrame </b><br>\n",
    "a) It consists of rows and columns. <br>\n",
    "b) Dataframe can contain just 1 column only<br>\n",
    "c) Every dataframe will bear index.<br>\n",
    "\n",
    "<b>2) Series</b><br>\n",
    "a) Single column data is represented in series.<br>\n",
    "b) Every Series will bear index."
   ]
  },
  {
   "cell_type": "markdown",
   "metadata": {},
   "source": [
    "### Gradient Descent Implementation"
   ]
  },
  {
   "cell_type": "code",
   "execution_count": 82,
   "metadata": {},
   "outputs": [
    {
     "name": "stdout",
     "output_type": "stream",
     "text": [
      "1\n",
      "2\n",
      "[4 5 6 7 8] (5,)\n",
      "[[2 3 4]\n",
      " [5 6 7]] (2, 3)\n"
     ]
    }
   ],
   "source": [
    "a1d = np.array([4,5,6,7,8])\n",
    "a2d = np.array([[2,3,4],[5,6,7]])\n",
    "print(a1d.ndim)\n",
    "print(a2d.ndim)\n",
    "print(a1d,a1d.shape)\n",
    "print(a2d,a2d.shape)"
   ]
  },
  {
   "cell_type": "code",
   "execution_count": 83,
   "metadata": {},
   "outputs": [
    {
     "name": "stdout",
     "output_type": "stream",
     "text": [
      "<class 'dict'>\n"
     ]
    }
   ],
   "source": [
    "data = {'CGPA': [8.3,9.4,7.5,8.9,9.7,6.4],\n",
    "       'CTC': [4.35,5.4,3.50,3.75,4.5,3.5]}\n",
    "print(type(data))"
   ]
  },
  {
   "cell_type": "code",
   "execution_count": 84,
   "metadata": {},
   "outputs": [
    {
     "data": {
      "text/html": [
       "<div>\n",
       "<style scoped>\n",
       "    .dataframe tbody tr th:only-of-type {\n",
       "        vertical-align: middle;\n",
       "    }\n",
       "\n",
       "    .dataframe tbody tr th {\n",
       "        vertical-align: top;\n",
       "    }\n",
       "\n",
       "    .dataframe thead th {\n",
       "        text-align: right;\n",
       "    }\n",
       "</style>\n",
       "<table border=\"1\" class=\"dataframe\">\n",
       "  <thead>\n",
       "    <tr style=\"text-align: right;\">\n",
       "      <th></th>\n",
       "      <th>CGPA</th>\n",
       "      <th>CTC</th>\n",
       "    </tr>\n",
       "  </thead>\n",
       "  <tbody>\n",
       "    <tr>\n",
       "      <th>0</th>\n",
       "      <td>8.3</td>\n",
       "      <td>4.35</td>\n",
       "    </tr>\n",
       "    <tr>\n",
       "      <th>1</th>\n",
       "      <td>9.4</td>\n",
       "      <td>5.40</td>\n",
       "    </tr>\n",
       "    <tr>\n",
       "      <th>2</th>\n",
       "      <td>7.5</td>\n",
       "      <td>3.50</td>\n",
       "    </tr>\n",
       "    <tr>\n",
       "      <th>3</th>\n",
       "      <td>8.9</td>\n",
       "      <td>3.75</td>\n",
       "    </tr>\n",
       "    <tr>\n",
       "      <th>4</th>\n",
       "      <td>9.7</td>\n",
       "      <td>4.50</td>\n",
       "    </tr>\n",
       "  </tbody>\n",
       "</table>\n",
       "</div>"
      ],
      "text/plain": [
       "   CGPA   CTC\n",
       "0   8.3  4.35\n",
       "1   9.4  5.40\n",
       "2   7.5  3.50\n",
       "3   8.9  3.75\n",
       "4   9.7  4.50"
      ]
     },
     "execution_count": 84,
     "metadata": {},
     "output_type": "execute_result"
    }
   ],
   "source": [
    "df = pd.DataFrame(data)\n",
    "df.head()  # top 5 rows"
   ]
  },
  {
   "cell_type": "markdown",
   "metadata": {},
   "source": [
    "### Predict CTC based on CGPA?"
   ]
  },
  {
   "cell_type": "code",
   "execution_count": 85,
   "metadata": {},
   "outputs": [
    {
     "name": "stdout",
     "output_type": "stream",
     "text": [
      "<class 'pandas.core.frame.DataFrame'>\n",
      "<class 'pandas.core.series.Series'>\n",
      "<class 'pandas.core.frame.DataFrame'>\n"
     ]
    }
   ],
   "source": [
    "print(type(df[['CTC']]))\n",
    "print(type(df['CTC']))\n",
    "print(type(df[['CGPA','CTC']]))"
   ]
  },
  {
   "cell_type": "code",
   "execution_count": 86,
   "metadata": {},
   "outputs": [
    {
     "name": "stdout",
     "output_type": "stream",
     "text": [
      "<class 'numpy.ndarray'>\n",
      "<class 'numpy.ndarray'>\n",
      "(6, 1)\n",
      "(6,)\n"
     ]
    }
   ],
   "source": [
    "x = df[['CGPA']].values   # 2D np array\n",
    "y = df['CTC'].values      # 1D np array\n",
    "print(type(x))\n",
    "print(type(y))\n",
    "print(x.shape)\n",
    "print(y.shape)"
   ]
  },
  {
   "cell_type": "code",
   "execution_count": 87,
   "metadata": {},
   "outputs": [
    {
     "name": "stdout",
     "output_type": "stream",
     "text": [
      "[[8.3]\n",
      " [9.4]\n",
      " [7.5]\n",
      " [8.9]\n",
      " [9.7]\n",
      " [6.4]]\n",
      "[4.35 5.4  3.5  3.75 4.5  3.5 ]\n"
     ]
    }
   ],
   "source": [
    "print(x)\n",
    "print(y)"
   ]
  },
  {
   "cell_type": "markdown",
   "metadata": {},
   "source": [
    "### Applying Gradient Descent"
   ]
  },
  {
   "cell_type": "code",
   "execution_count": 88,
   "metadata": {},
   "outputs": [],
   "source": [
    "# w= weight, b = bias\n",
    "# Grad Descent =>\n",
    "# w_new = w_old - alpha*(dL/d_w_old)\n",
    "# b_new = b_old - alpha*(dL/d_b_old)\n",
    "\n",
    "# ypred  = wx + b\n",
    "# Loss = (1/n)*Sum((y - ypred)^2)\n",
    "# Loss = (1/n)*Sum((y - (wx + b))^2)  = 120\n",
    "# dL/dw = -(2/n)*sum(y - ypred)*x\n",
    "# dL/db = -(2/n)*sum(y - ypred)*\n",
    "\n",
    "# w_new = w_old - alpha*(dL/dw)\n",
    "# b_new = b_old - alpha*(dL/db)\n",
    "\n",
    "# Loss = Cost = Error\n",
    "# alpha = learning rate"
   ]
  },
  {
   "cell_type": "code",
   "execution_count": 89,
   "metadata": {},
   "outputs": [],
   "source": [
    "# lr = learning_rate = alpha\n",
    "# epoch = number of itertaions\n",
    "cost_val = []\n",
    "\n",
    "def grad_desc(x,y,lr,epoch):\n",
    "    w,b = 1,1\n",
    "    for i in range(epoch):\n",
    "        print(f'w is {w} and b is {b}')\n",
    "        ypred = np.dot(w, x.T) + b    # ypred = wx + b\n",
    "        cost = np.mean(np.square(y-ypred))   # loss\n",
    "        loss_w = -(2/len(x)) * np.sum((y-ypred)*x.T)   # dl/dw\n",
    "        loss_b = -(2/len(x)) * np.sum((y-ypred))       # dl/db\n",
    "        w = w - lr*loss_w\n",
    "        b = b - lr*loss_b\n",
    "        cost_val.append(cost)\n",
    "        print(f'ypred {ypred}')\n",
    "        print(f'Cost {cost}')\n",
    "        print(f'loss_w {loss_w} and loss_b {loss_b}')\n",
    "        print(f'Iteration {i}')\n",
    "        print('*'*70)"
   ]
  },
  {
   "cell_type": "code",
   "execution_count": 90,
   "metadata": {},
   "outputs": [
    {
     "name": "stdout",
     "output_type": "stream",
     "text": [
      "w is 1 and b is 1\n",
      "ypred [[ 9.3 10.4  8.5  9.9 10.7  7.4]]\n",
      "Cost 27.662500000000005\n",
      "loss_w 88.47333333333333 and loss_b 10.4\n",
      "Iteration 0\n",
      "**********************************************************************\n",
      "w is 0.9115266666666667 and b is 0.9896\n",
      "ypred [[8.55527133 9.55795067 7.82605    9.10218733 9.83140867 6.82337067]]\n",
      "Cost 20.300364924341924\n",
      "loss_w 75.68418897777778 and loss_b 8.898746222222224\n",
      "Iteration 1\n",
      "**********************************************************************\n",
      "w is 0.835842477688889 and b is 0.9807012537777778\n",
      "ypred [[7.91819382 8.83762054 7.24951984 8.41969931 9.08837329 6.33009311]]\n",
      "Cost 14.912804862988812\n",
      "loss_w 64.74372706528119 and loss_b 7.614499967549631\n",
      "Iteration 2\n",
      "**********************************************************************\n",
      "w is 0.7710987506236078 and b is 0.9730867538102282\n",
      "ypred [[7.37320638 8.22141501 6.75632738 7.83586563 8.45274463 5.90811876]]\n",
      "Cost 10.970225267926153\n",
      "loss_w 55.38471886934264 and loss_b 6.515892601388828\n",
      "Iteration 3\n",
      "**********************************************************************\n",
      "w is 0.7157140317542652 and b is 0.9665708612088394\n",
      "ypred [[6.90699732 7.69428276 6.3344261  7.33642574 7.90899697 5.54714066]]\n",
      "Cost 8.085072477536242\n",
      "loss_w 47.37856381862941 and loss_b 5.576089853772382\n",
      "Iteration 4\n",
      "**********************************************************************\n",
      "w is 0.6683354679356358 and b is 0.9609947713550671\n",
      "ypred [[6.50817916 7.24334817 5.97351078 6.90918044 7.44384881 5.23834177]]\n",
      "Cost 5.973737377645963\n",
      "loss_w 40.52970576205732 and loss_b 4.772136372833107\n",
      "Iteration 5\n",
      "**********************************************************************\n",
      "w is 0.6278057621735785 and b is 0.9562226349822339\n",
      "ypred [[6.16701046 6.8575968  5.66476585 6.54369392 7.04593853 4.97417951]]\n",
      "Cost 4.42867676170603\n",
      "loss_w 34.67085636782603 and loss_b 4.084395023669016\n",
      "Iteration 6\n",
      "**********************************************************************\n",
      "w is 0.5931349058057525 and b is 0.952138239958565\n",
      "ypred [[5.87515796 6.52760635 5.40065003 6.2310389  6.70554683 4.74820164]]\n",
      "Cost 3.2980119331860163\n",
      "loss_w 29.658908984462872 and loss_b 3.4960672370667205\n",
      "Iteration 7\n",
      "**********************************************************************\n",
      "w is 0.5634759968212896 and b is 0.9486421727214982\n",
      "ypred [[5.62549295 6.24531654 5.17471215 5.96357854 6.41435934 4.55488855]]\n",
      "Cost 2.4705991025911778\n",
      "loss_w 25.371443156964677 and loss_b 2.9927826922525753\n",
      "Iteration 8\n",
      "**********************************************************************\n",
      "w is 0.5381045536643249 and b is 0.9456493900292456\n",
      "ypred [[5.41191719 6.00383219 4.98143354 5.73477992 6.16526356 4.38951853]]\n",
      "Cost 1.8651040062923796\n",
      "loss_w 21.703734418306574 and loss_b 2.5622483113748604\n",
      "Iteration 9\n",
      "**********************************************************************\n"
     ]
    }
   ],
   "source": [
    "grad_desc(x,y,lr=0.001,epoch=10)"
   ]
  },
  {
   "cell_type": "code",
   "execution_count": 91,
   "metadata": {},
   "outputs": [
    {
     "name": "stdout",
     "output_type": "stream",
     "text": [
      "[27.662500000000005, 20.300364924341924, 14.912804862988812, 10.970225267926153, 8.085072477536242, 5.973737377645963, 4.42867676170603, 3.2980119331860163, 2.4705991025911778, 1.8651040062923796]\n"
     ]
    }
   ],
   "source": [
    "print(cost_val)"
   ]
  },
  {
   "cell_type": "code",
   "execution_count": 92,
   "metadata": {},
   "outputs": [
    {
     "data": {
      "image/png": "[encoded data removed]",
      "text/plain": [
       "<Figure size 432x288 with 1 Axes>"
      ]
     },
     "metadata": {
      "needs_background": "light"
     },
     "output_type": "display_data"
    }
   ],
   "source": [
    "plt.plot(list(range(10)),cost_val)\n",
    "plt.xlabel('No of Epochs')\n",
    "plt.ylabel('Loss')\n",
    "plt.title('Loss vs Epochs')\n",
    "plt.grid()\n",
    "plt.show()"
   ]
  }
 ],
 "metadata": {
  "kernelspec": {
   "display_name": "Python 3.10.2 64-bit",
   "language": "python",
   "name": "python3"
  },
  "language_info": {
   "codemirror_mode": {
    "name": "ipython",
    "version": 3
   },
   "file_extension": ".py",
   "mimetype": "text/x-python",
   "name": "python",
   "nbconvert_exporter": "python",
   "pygments_lexer": "ipython3",
   "version": "3.10.2"
  },
  "orig_nbformat": 4,
  "vscode": {
   "interpreter": {
    "hash": "26de051ba29f2982a8de78e945f0abaf191376122a1563185a90213a26c5da77"
   }
  }
 },
 "nbformat": 4,
 "nbformat_minor": 2
}
